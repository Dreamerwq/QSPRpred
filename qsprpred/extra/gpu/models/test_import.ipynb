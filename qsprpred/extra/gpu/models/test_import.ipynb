{
 "cells": [
  {
   "metadata": {},
   "cell_type": "markdown",
   "source": "",
   "id": "31f4b28007a9cb5"
  },
  {
   "metadata": {
    "ExecuteTime": {
     "end_time": "2025-03-21T20:49:50.715176Z",
     "start_time": "2025-03-21T20:48:16.641681Z"
    }
   },
   "cell_type": "code",
   "source": [
    "\n",
    "from mols2grid import display\n",
    "from torch.nn.functional import linear\n",
    "\n",
    "# Přidání cesty k adresáři, kde se nachází tvůj skript\n",
    "# sys.path.append(os.path.abspath('/Users/krynekt/DataspellProjects/Bakalarka/QSPRpred/qsprpred/extra/gpu/models'))\n",
    "import sys, os\n",
    "sys.path.insert(0, os.path.abspath('/Users/krynekt/DataspellProjects/Bakalarka/QSPRpred/'))\n",
    "\n",
    "import pandas as pd\n",
    "\n",
    "df = pd.read_csv('../../../../tutorials/tutorial_data/A2A_LIGANDS.tsv', sep='\\t')\n",
    "\n",
    "df.head()\n",
    "from qsprpred.data import QSPRDataset\n",
    "\n",
    "import os\n",
    "\n",
    "os.makedirs(\"tutorial_output/data\", exist_ok=True)\n",
    "\n",
    "dataset = QSPRDataset(\n",
    "    df=df,\n",
    "    store_dir=\"tutorial_output/data\",\n",
    "    name=\"QuickStartDataset\",\n",
    "    target_props=[{\"name\": \"pchembl_value_Mean\", \"task\": \"REGRESSION\"}],\n",
    "    random_state=42,\n",
    "    overwrite=True\n",
    ")\n",
    "\n",
    "dataset.getDF()\n",
    "from qsprpred.data.descriptors.fingerprints import MorganFP\n",
    "from qsprpred.data import RandomSplit\n",
    "\n",
    "\n",
    "# Specifiy random split for creating the train (80%) and test set (20%)\n",
    "rand_split = RandomSplit(test_fraction=0.2, dataset=dataset)\n",
    "\n",
    "# calculate compound features and split dataset into train and test\n",
    "dataset.prepareDataset(\n",
    "    split=rand_split,\n",
    "    feature_calculators=[MorganFP(radius=3, nBits=2048)],\n",
    ")\n",
    "\n",
    "print(f\"Number of samples in train set: {len(dataset.y)}\")\n",
    "print(f\"Number of samples in test set: {len(dataset.y_ind)}\")\n",
    "\n",
    "dataset.save()\n",
    "\n",
    "import torch\n",
    "\n",
    "from torch.nn import functional as f\n",
    "from sklearn.metrics import mean_squared_error\n",
    "from qsprpred.extra.gpu.models.neural_network import STFullyConnected\n",
    "\n",
    "\n",
    "device = torch.device(\"cuda\" if torch.cuda.is_available() else \"cpu\")\n",
    "x = STFullyConnected(\n",
    "        n_dim=dataset.X.shape[1],  # počet vstupních neuronů (počet deskriptorů)\n",
    "        n_class=1,  # regresní úloha (1 výstup)\n",
    "        gpus=[],\n",
    "        device=device,\n",
    "        batch_size=256,\n",
    "        patience=20,\n",
    "        tol=1e-4,\n",
    "        is_reg=True,\n",
    "        extra_layer=True,\n",
    "        act_fun=f.selu,\n",
    "        neuron_layers=[2048, 1024, 512],\n",
    "    )\n",
    "x.fit(dataset.X, dataset.y)\n",
    "\n",
    "print(mean_squared_error(dataset.y_ind, x.predict(dataset.X_ind)))"
   ],
   "id": "82190ed6563b3eb0",
   "outputs": [
    {
     "name": "stdout",
     "output_type": "stream",
     "text": [
      "Number of samples in train set: 3265\n",
      "Number of samples in test set: 817\n",
      "[2048, 1024, 512]\n",
      "512\n",
      "ModuleList(\n",
      "  (0): Linear(in_features=2048, out_features=2048, bias=True)\n",
      "  (1): Linear(in_features=2048, out_features=1024, bias=True)\n",
      "  (2): Linear(in_features=1024, out_features=512, bias=True)\n",
      "  (3): Linear(in_features=512, out_features=1, bias=True)\n",
      ")\n",
      "Linear(in_features=2048, out_features=256, bias=True) Linear(in_features=256, out_features=128, bias=True) Linear(in_features=128, out_features=128, bias=True) Linear(in_features=128, out_features=1, bias=True)\n",
      "0.5879974768899853\n"
     ]
    }
   ],
   "execution_count": 3
  },
  {
   "metadata": {
    "ExecuteTime": {
     "end_time": "2025-03-21T17:32:07.436401Z",
     "start_time": "2025-03-21T17:32:07.009664Z"
    }
   },
   "cell_type": "code",
   "source": "",
   "id": "25cd907ddbeb1730",
   "outputs": [
    {
     "ename": "TypeError",
     "evalue": "linear(): argument 'input' (position 1) must be Tensor, not DataFrame",
     "output_type": "error",
     "traceback": [
      "\u001B[0;31m---------------------------------------------------------------------------\u001B[0m",
      "\u001B[0;31mTypeError\u001B[0m                                 Traceback (most recent call last)",
      "Cell \u001B[0;32mIn[2], line 1\u001B[0m\n\u001B[0;32m----> 1\u001B[0m x\u001B[38;5;241m.\u001B[39mforward(dataset\u001B[38;5;241m.\u001B[39mX)\n",
      "File \u001B[0;32m~/DataspellProjects/Bakalarka/QSPRpred/qsprpred/extra/gpu/models/neural_network.py:524\u001B[0m, in \u001B[0;36mSTFullyConnected.forward\u001B[0;34m(self, X, is_train)\u001B[0m\n\u001B[1;32m    496\u001B[0m \u001B[38;5;250m\u001B[39m\u001B[38;5;124;03m\"\"\"Invoke the class directly as a function.\u001B[39;00m\n\u001B[1;32m    497\u001B[0m \n\u001B[1;32m    498\u001B[0m \u001B[38;5;124;03mArgs:\u001B[39;00m\n\u001B[0;32m   (...)\u001B[0m\n\u001B[1;32m    507\u001B[0m \u001B[38;5;124;03m        n is the No. of classes\u001B[39;00m\n\u001B[1;32m    508\u001B[0m \u001B[38;5;124;03m\"\"\"\u001B[39;00m\n\u001B[1;32m    509\u001B[0m  \u001B[38;5;66;03m# Initialize 'y' with input tensor\u001B[39;00m\n\u001B[1;32m    510\u001B[0m \u001B[38;5;66;03m# y = self.act_fun(self.layers[0](X))\u001B[39;00m\n\u001B[1;32m    511\u001B[0m \u001B[38;5;66;03m# for i in range(1, len(self.layers) - 1):\u001B[39;00m\n\u001B[0;32m   (...)\u001B[0m\n\u001B[1;32m    521\u001B[0m \u001B[38;5;66;03m#     # If classification, apply the final layer activation (e.g., Softmax, Sigmoid)\u001B[39;00m\n\u001B[1;32m    522\u001B[0m \u001B[38;5;66;03m#     y = self.final_layer_activation(self.layers[-1](y))\u001B[39;00m\n\u001B[0;32m--> 524\u001B[0m y \u001B[38;5;241m=\u001B[39m \u001B[38;5;28mself\u001B[39m\u001B[38;5;241m.\u001B[39mact_fun(\u001B[38;5;28mself\u001B[39m\u001B[38;5;241m.\u001B[39mfc0(X))\n\u001B[1;32m    525\u001B[0m \u001B[38;5;28;01mif\u001B[39;00m is_train:\n\u001B[1;32m    526\u001B[0m     y \u001B[38;5;241m=\u001B[39m \u001B[38;5;28mself\u001B[39m\u001B[38;5;241m.\u001B[39mdropout(y)\n",
      "File \u001B[0;32m~/anaconda3/envs/ml/lib/python3.11/site-packages/torch/nn/modules/module.py:1532\u001B[0m, in \u001B[0;36mModule._wrapped_call_impl\u001B[0;34m(self, *args, **kwargs)\u001B[0m\n\u001B[1;32m   1530\u001B[0m     \u001B[38;5;28;01mreturn\u001B[39;00m \u001B[38;5;28mself\u001B[39m\u001B[38;5;241m.\u001B[39m_compiled_call_impl(\u001B[38;5;241m*\u001B[39margs, \u001B[38;5;241m*\u001B[39m\u001B[38;5;241m*\u001B[39mkwargs)  \u001B[38;5;66;03m# type: ignore[misc]\u001B[39;00m\n\u001B[1;32m   1531\u001B[0m \u001B[38;5;28;01melse\u001B[39;00m:\n\u001B[0;32m-> 1532\u001B[0m     \u001B[38;5;28;01mreturn\u001B[39;00m \u001B[38;5;28mself\u001B[39m\u001B[38;5;241m.\u001B[39m_call_impl(\u001B[38;5;241m*\u001B[39margs, \u001B[38;5;241m*\u001B[39m\u001B[38;5;241m*\u001B[39mkwargs)\n",
      "File \u001B[0;32m~/anaconda3/envs/ml/lib/python3.11/site-packages/torch/nn/modules/module.py:1541\u001B[0m, in \u001B[0;36mModule._call_impl\u001B[0;34m(self, *args, **kwargs)\u001B[0m\n\u001B[1;32m   1536\u001B[0m \u001B[38;5;66;03m# If we don't have any hooks, we want to skip the rest of the logic in\u001B[39;00m\n\u001B[1;32m   1537\u001B[0m \u001B[38;5;66;03m# this function, and just call forward.\u001B[39;00m\n\u001B[1;32m   1538\u001B[0m \u001B[38;5;28;01mif\u001B[39;00m \u001B[38;5;129;01mnot\u001B[39;00m (\u001B[38;5;28mself\u001B[39m\u001B[38;5;241m.\u001B[39m_backward_hooks \u001B[38;5;129;01mor\u001B[39;00m \u001B[38;5;28mself\u001B[39m\u001B[38;5;241m.\u001B[39m_backward_pre_hooks \u001B[38;5;129;01mor\u001B[39;00m \u001B[38;5;28mself\u001B[39m\u001B[38;5;241m.\u001B[39m_forward_hooks \u001B[38;5;129;01mor\u001B[39;00m \u001B[38;5;28mself\u001B[39m\u001B[38;5;241m.\u001B[39m_forward_pre_hooks\n\u001B[1;32m   1539\u001B[0m         \u001B[38;5;129;01mor\u001B[39;00m _global_backward_pre_hooks \u001B[38;5;129;01mor\u001B[39;00m _global_backward_hooks\n\u001B[1;32m   1540\u001B[0m         \u001B[38;5;129;01mor\u001B[39;00m _global_forward_hooks \u001B[38;5;129;01mor\u001B[39;00m _global_forward_pre_hooks):\n\u001B[0;32m-> 1541\u001B[0m     \u001B[38;5;28;01mreturn\u001B[39;00m forward_call(\u001B[38;5;241m*\u001B[39margs, \u001B[38;5;241m*\u001B[39m\u001B[38;5;241m*\u001B[39mkwargs)\n\u001B[1;32m   1543\u001B[0m \u001B[38;5;28;01mtry\u001B[39;00m:\n\u001B[1;32m   1544\u001B[0m     result \u001B[38;5;241m=\u001B[39m \u001B[38;5;28;01mNone\u001B[39;00m\n",
      "File \u001B[0;32m~/anaconda3/envs/ml/lib/python3.11/site-packages/torch/nn/modules/linear.py:116\u001B[0m, in \u001B[0;36mLinear.forward\u001B[0;34m(self, input)\u001B[0m\n\u001B[1;32m    115\u001B[0m \u001B[38;5;28;01mdef\u001B[39;00m \u001B[38;5;21mforward\u001B[39m(\u001B[38;5;28mself\u001B[39m, \u001B[38;5;28minput\u001B[39m: Tensor) \u001B[38;5;241m-\u001B[39m\u001B[38;5;241m>\u001B[39m Tensor:\n\u001B[0;32m--> 116\u001B[0m     \u001B[38;5;28;01mreturn\u001B[39;00m F\u001B[38;5;241m.\u001B[39mlinear(\u001B[38;5;28minput\u001B[39m, \u001B[38;5;28mself\u001B[39m\u001B[38;5;241m.\u001B[39mweight, \u001B[38;5;28mself\u001B[39m\u001B[38;5;241m.\u001B[39mbias)\n",
      "\u001B[0;31mTypeError\u001B[0m: linear(): argument 'input' (position 1) must be Tensor, not DataFrame"
     ]
    }
   ],
   "execution_count": 2
  },
  {
   "metadata": {
    "ExecuteTime": {
     "end_time": "2025-03-21T16:34:23.353775Z",
     "start_time": "2025-03-21T16:34:22.164610Z"
    }
   },
   "cell_type": "code",
   "source": [
    "\n",
    "from mols2grid import display\n",
    "from torch.nn.functional import linear\n",
    "\n",
    "# Přidání cesty k adresáři, kde se nachází tvůj skript\n",
    "# sys.path.append(os.path.abspath('/Users/krynekt/DataspellProjects/Bakalarka/QSPRpred/qsprpred/extra/gpu/models'))\n",
    "import sys, os\n",
    "sys.path.insert(0, os.path.abspath('/Users/krynekt/DataspellProjects/Bakalarka/QSPRpred/'))\n",
    "# Nyní můžeš naimportovat svůj skript\n",
    "print(sys.path)\n"
   ],
   "id": "a0af6cd593967279",
   "outputs": [
    {
     "name": "stdout",
     "output_type": "stream",
     "text": [
      "['/Users/krynekt/DataspellProjects/Bakalarka/QSPRpred', '/Users/krynekt/DataspellProjects/Bakalarka/QSPRpred', '/Users/krynekt/anaconda3/envs/ml/lib/python311.zip', '/Users/krynekt/anaconda3/envs/ml/lib/python3.11', '/Users/krynekt/anaconda3/envs/ml/lib/python3.11/lib-dynload', '', '/Users/krynekt/anaconda3/envs/ml/lib/python3.11/site-packages', '/Users/krynekt/anaconda3/envs/ml/lib/python3.11/site-packages/setuptools/_vendor']\n"
     ]
    }
   ],
   "execution_count": 1
  },
  {
   "metadata": {
    "ExecuteTime": {
     "end_time": "2025-03-21T16:34:23.359450Z",
     "start_time": "2025-03-21T16:34:23.358050Z"
    }
   },
   "cell_type": "code",
   "source": "",
   "id": "32a0cf50b39710ed",
   "outputs": [],
   "execution_count": null
  },
  {
   "metadata": {
    "ExecuteTime": {
     "end_time": "2025-03-21T16:34:23.407177Z",
     "start_time": "2025-03-21T16:34:23.397929Z"
    }
   },
   "cell_type": "code",
   "source": [
    "import pandas as pd\n",
    "\n",
    "df = pd.read_csv('../../../../tutorials/tutorial_data/A2A_LIGANDS.tsv', sep='\\t')\n",
    "\n",
    "df.head()"
   ],
   "id": "d1ca6a32be65caf6",
   "outputs": [
    {
     "data": {
      "text/plain": [
       "                                              SMILES  pchembl_value_Mean  \\\n",
       "0  Cc1nn(-c2cc(NC(=O)CCN(C)C)nc(-c3ccc(C)o3)n2)c(...                8.68   \n",
       "1  Nc1c(C(=O)Nc2ccc([N+](=O)[O-])cc2)sc2c1cc1CCCC...                4.82   \n",
       "2   O=C(Nc1nc2ncccc2n2c(=O)n(-c3ccccc3)nc12)c1ccccc1                5.65   \n",
       "3  CNC(=O)C12CC1C(n1cnc3c1nc(C#CCCCCC(=O)OC)nc3NC...                5.45   \n",
       "4  CCCn1c(=O)c2c(nc3cc(OC)ccn32)n(CCCNC(=O)c2ccc(...                5.20   \n",
       "\n",
       "     Year  \n",
       "0  2008.0  \n",
       "1  2010.0  \n",
       "2  2009.0  \n",
       "3  2009.0  \n",
       "4  2019.0  "
      ],
      "text/html": [
       "<div>\n",
       "<style scoped>\n",
       "    .dataframe tbody tr th:only-of-type {\n",
       "        vertical-align: middle;\n",
       "    }\n",
       "\n",
       "    .dataframe tbody tr th {\n",
       "        vertical-align: top;\n",
       "    }\n",
       "\n",
       "    .dataframe thead th {\n",
       "        text-align: right;\n",
       "    }\n",
       "</style>\n",
       "<table border=\"1\" class=\"dataframe\">\n",
       "  <thead>\n",
       "    <tr style=\"text-align: right;\">\n",
       "      <th></th>\n",
       "      <th>SMILES</th>\n",
       "      <th>pchembl_value_Mean</th>\n",
       "      <th>Year</th>\n",
       "    </tr>\n",
       "  </thead>\n",
       "  <tbody>\n",
       "    <tr>\n",
       "      <th>0</th>\n",
       "      <td>Cc1nn(-c2cc(NC(=O)CCN(C)C)nc(-c3ccc(C)o3)n2)c(...</td>\n",
       "      <td>8.68</td>\n",
       "      <td>2008.0</td>\n",
       "    </tr>\n",
       "    <tr>\n",
       "      <th>1</th>\n",
       "      <td>Nc1c(C(=O)Nc2ccc([N+](=O)[O-])cc2)sc2c1cc1CCCC...</td>\n",
       "      <td>4.82</td>\n",
       "      <td>2010.0</td>\n",
       "    </tr>\n",
       "    <tr>\n",
       "      <th>2</th>\n",
       "      <td>O=C(Nc1nc2ncccc2n2c(=O)n(-c3ccccc3)nc12)c1ccccc1</td>\n",
       "      <td>5.65</td>\n",
       "      <td>2009.0</td>\n",
       "    </tr>\n",
       "    <tr>\n",
       "      <th>3</th>\n",
       "      <td>CNC(=O)C12CC1C(n1cnc3c1nc(C#CCCCCC(=O)OC)nc3NC...</td>\n",
       "      <td>5.45</td>\n",
       "      <td>2009.0</td>\n",
       "    </tr>\n",
       "    <tr>\n",
       "      <th>4</th>\n",
       "      <td>CCCn1c(=O)c2c(nc3cc(OC)ccn32)n(CCCNC(=O)c2ccc(...</td>\n",
       "      <td>5.20</td>\n",
       "      <td>2019.0</td>\n",
       "    </tr>\n",
       "  </tbody>\n",
       "</table>\n",
       "</div>"
      ]
     },
     "execution_count": 2,
     "metadata": {},
     "output_type": "execute_result"
    }
   ],
   "execution_count": 2
  },
  {
   "metadata": {
    "ExecuteTime": {
     "end_time": "2025-03-21T16:34:24.743355Z",
     "start_time": "2025-03-21T16:34:23.428303Z"
    }
   },
   "cell_type": "code",
   "source": [
    "from qsprpred.data import QSPRDataset\n",
    "\n",
    "import os\n",
    "\n",
    "os.makedirs(\"tutorial_output/data\", exist_ok=True)\n",
    "\n",
    "dataset = QSPRDataset(\n",
    "    df=df,\n",
    "    store_dir=\"tutorial_output/data\",\n",
    "    name=\"QuickStartDataset\",\n",
    "    target_props=[{\"name\": \"pchembl_value_Mean\", \"task\": \"REGRESSION\"}],\n",
    "    random_state=42,\n",
    "    overwrite=True\n",
    ")\n",
    "\n",
    "dataset.getDF()"
   ],
   "id": "fcc8ecdef40b1d4e",
   "outputs": [
    {
     "data": {
      "text/plain": [
       "                                                                   SMILES  \\\n",
       "QSPRID                                                                      \n",
       "QuickStartDataset_0000  Cc1nn(-c2cc(NC(=O)CCN(C)C)nc(-c3ccc(C)o3)n2)c(...   \n",
       "QuickStartDataset_0001  Nc1c(C(=O)Nc2ccc([N+](=O)[O-])cc2)sc2c1cc1CCCC...   \n",
       "QuickStartDataset_0002   O=C(Nc1nc2ncccc2n2c(=O)n(-c3ccccc3)nc12)c1ccccc1   \n",
       "QuickStartDataset_0003  CNC(=O)C12CC1C(n1cnc3c1nc(C#CCCCCC(=O)OC)nc3NC...   \n",
       "QuickStartDataset_0004  CCCn1c(=O)c2c(nc3cc(OC)ccn32)n(CCCNC(=O)c2ccc(...   \n",
       "...                                                                   ...   \n",
       "QuickStartDataset_4077     CNc1ncc(C(=O)NCc2ccc(OC)cc2)c2nc(-c3ccco3)nn12   \n",
       "QuickStartDataset_4078         Nc1nc(-c2ccco2)c2ncn(C(=O)NCCc3ccccc3)c2n1   \n",
       "QuickStartDataset_4079              Nc1nc(Nc2ccc(F)cc2)nc(CSc2nnc(N)s2)n1   \n",
       "QuickStartDataset_4080      CCCOc1ccc(C=Cc2cc3c(c(=O)n(C)c(=O)n3C)n2C)cc1   \n",
       "QuickStartDataset_4081           CCOC(=O)c1cnc(NCC(C)C)n2nc(-c3ccco3)nc12   \n",
       "\n",
       "                        pchembl_value_Mean    Year                  QSPRID  \\\n",
       "QSPRID                                                                       \n",
       "QuickStartDataset_0000                8.68  2008.0  QuickStartDataset_0000   \n",
       "QuickStartDataset_0001                4.82  2010.0  QuickStartDataset_0001   \n",
       "QuickStartDataset_0002                5.65  2009.0  QuickStartDataset_0002   \n",
       "QuickStartDataset_0003                5.45  2009.0  QuickStartDataset_0003   \n",
       "QuickStartDataset_0004                5.20  2019.0  QuickStartDataset_0004   \n",
       "...                                    ...     ...                     ...   \n",
       "QuickStartDataset_4077                7.09  2018.0  QuickStartDataset_4077   \n",
       "QuickStartDataset_4078                8.22  2008.0  QuickStartDataset_4078   \n",
       "QuickStartDataset_4079                4.89  2010.0  QuickStartDataset_4079   \n",
       "QuickStartDataset_4080                6.51  2013.0  QuickStartDataset_4080   \n",
       "QuickStartDataset_4081                7.35  2014.0  QuickStartDataset_4081   \n",
       "\n",
       "                        pchembl_value_Mean_original  \n",
       "QSPRID                                               \n",
       "QuickStartDataset_0000                         8.68  \n",
       "QuickStartDataset_0001                         4.82  \n",
       "QuickStartDataset_0002                         5.65  \n",
       "QuickStartDataset_0003                         5.45  \n",
       "QuickStartDataset_0004                         5.20  \n",
       "...                                             ...  \n",
       "QuickStartDataset_4077                         7.09  \n",
       "QuickStartDataset_4078                         8.22  \n",
       "QuickStartDataset_4079                         4.89  \n",
       "QuickStartDataset_4080                         6.51  \n",
       "QuickStartDataset_4081                         7.35  \n",
       "\n",
       "[4082 rows x 5 columns]"
      ],
      "text/html": [
       "<div>\n",
       "<style scoped>\n",
       "    .dataframe tbody tr th:only-of-type {\n",
       "        vertical-align: middle;\n",
       "    }\n",
       "\n",
       "    .dataframe tbody tr th {\n",
       "        vertical-align: top;\n",
       "    }\n",
       "\n",
       "    .dataframe thead th {\n",
       "        text-align: right;\n",
       "    }\n",
       "</style>\n",
       "<table border=\"1\" class=\"dataframe\">\n",
       "  <thead>\n",
       "    <tr style=\"text-align: right;\">\n",
       "      <th></th>\n",
       "      <th>SMILES</th>\n",
       "      <th>pchembl_value_Mean</th>\n",
       "      <th>Year</th>\n",
       "      <th>QSPRID</th>\n",
       "      <th>pchembl_value_Mean_original</th>\n",
       "    </tr>\n",
       "    <tr>\n",
       "      <th>QSPRID</th>\n",
       "      <th></th>\n",
       "      <th></th>\n",
       "      <th></th>\n",
       "      <th></th>\n",
       "      <th></th>\n",
       "    </tr>\n",
       "  </thead>\n",
       "  <tbody>\n",
       "    <tr>\n",
       "      <th>QuickStartDataset_0000</th>\n",
       "      <td>Cc1nn(-c2cc(NC(=O)CCN(C)C)nc(-c3ccc(C)o3)n2)c(...</td>\n",
       "      <td>8.68</td>\n",
       "      <td>2008.0</td>\n",
       "      <td>QuickStartDataset_0000</td>\n",
       "      <td>8.68</td>\n",
       "    </tr>\n",
       "    <tr>\n",
       "      <th>QuickStartDataset_0001</th>\n",
       "      <td>Nc1c(C(=O)Nc2ccc([N+](=O)[O-])cc2)sc2c1cc1CCCC...</td>\n",
       "      <td>4.82</td>\n",
       "      <td>2010.0</td>\n",
       "      <td>QuickStartDataset_0001</td>\n",
       "      <td>4.82</td>\n",
       "    </tr>\n",
       "    <tr>\n",
       "      <th>QuickStartDataset_0002</th>\n",
       "      <td>O=C(Nc1nc2ncccc2n2c(=O)n(-c3ccccc3)nc12)c1ccccc1</td>\n",
       "      <td>5.65</td>\n",
       "      <td>2009.0</td>\n",
       "      <td>QuickStartDataset_0002</td>\n",
       "      <td>5.65</td>\n",
       "    </tr>\n",
       "    <tr>\n",
       "      <th>QuickStartDataset_0003</th>\n",
       "      <td>CNC(=O)C12CC1C(n1cnc3c1nc(C#CCCCCC(=O)OC)nc3NC...</td>\n",
       "      <td>5.45</td>\n",
       "      <td>2009.0</td>\n",
       "      <td>QuickStartDataset_0003</td>\n",
       "      <td>5.45</td>\n",
       "    </tr>\n",
       "    <tr>\n",
       "      <th>QuickStartDataset_0004</th>\n",
       "      <td>CCCn1c(=O)c2c(nc3cc(OC)ccn32)n(CCCNC(=O)c2ccc(...</td>\n",
       "      <td>5.20</td>\n",
       "      <td>2019.0</td>\n",
       "      <td>QuickStartDataset_0004</td>\n",
       "      <td>5.20</td>\n",
       "    </tr>\n",
       "    <tr>\n",
       "      <th>...</th>\n",
       "      <td>...</td>\n",
       "      <td>...</td>\n",
       "      <td>...</td>\n",
       "      <td>...</td>\n",
       "      <td>...</td>\n",
       "    </tr>\n",
       "    <tr>\n",
       "      <th>QuickStartDataset_4077</th>\n",
       "      <td>CNc1ncc(C(=O)NCc2ccc(OC)cc2)c2nc(-c3ccco3)nn12</td>\n",
       "      <td>7.09</td>\n",
       "      <td>2018.0</td>\n",
       "      <td>QuickStartDataset_4077</td>\n",
       "      <td>7.09</td>\n",
       "    </tr>\n",
       "    <tr>\n",
       "      <th>QuickStartDataset_4078</th>\n",
       "      <td>Nc1nc(-c2ccco2)c2ncn(C(=O)NCCc3ccccc3)c2n1</td>\n",
       "      <td>8.22</td>\n",
       "      <td>2008.0</td>\n",
       "      <td>QuickStartDataset_4078</td>\n",
       "      <td>8.22</td>\n",
       "    </tr>\n",
       "    <tr>\n",
       "      <th>QuickStartDataset_4079</th>\n",
       "      <td>Nc1nc(Nc2ccc(F)cc2)nc(CSc2nnc(N)s2)n1</td>\n",
       "      <td>4.89</td>\n",
       "      <td>2010.0</td>\n",
       "      <td>QuickStartDataset_4079</td>\n",
       "      <td>4.89</td>\n",
       "    </tr>\n",
       "    <tr>\n",
       "      <th>QuickStartDataset_4080</th>\n",
       "      <td>CCCOc1ccc(C=Cc2cc3c(c(=O)n(C)c(=O)n3C)n2C)cc1</td>\n",
       "      <td>6.51</td>\n",
       "      <td>2013.0</td>\n",
       "      <td>QuickStartDataset_4080</td>\n",
       "      <td>6.51</td>\n",
       "    </tr>\n",
       "    <tr>\n",
       "      <th>QuickStartDataset_4081</th>\n",
       "      <td>CCOC(=O)c1cnc(NCC(C)C)n2nc(-c3ccco3)nc12</td>\n",
       "      <td>7.35</td>\n",
       "      <td>2014.0</td>\n",
       "      <td>QuickStartDataset_4081</td>\n",
       "      <td>7.35</td>\n",
       "    </tr>\n",
       "  </tbody>\n",
       "</table>\n",
       "<p>4082 rows × 5 columns</p>\n",
       "</div>"
      ]
     },
     "execution_count": 3,
     "metadata": {},
     "output_type": "execute_result"
    }
   ],
   "execution_count": 3
  },
  {
   "metadata": {
    "ExecuteTime": {
     "end_time": "2025-03-21T16:34:28.394550Z",
     "start_time": "2025-03-21T16:34:24.764932Z"
    }
   },
   "cell_type": "code",
   "source": [
    "from qsprpred.data.descriptors.fingerprints import MorganFP\n",
    "from qsprpred.data import RandomSplit\n",
    "\n",
    "# Specifiy random split for creating the train (80%) and test set (20%)\n",
    "rand_split = RandomSplit(test_fraction=0.2, dataset=dataset)\n",
    "\n",
    "# calculate compound features and split dataset into train and test\n",
    "dataset.prepareDataset(\n",
    "    split=rand_split,\n",
    "    feature_calculators=[MorganFP(radius=3, nBits=2048)],\n",
    ")\n",
    "\n",
    "print(f\"Number of samples in train set: {len(dataset.y)}\")\n",
    "print(f\"Number of samples in test set: {len(dataset.y_ind)}\")\n",
    "\n",
    "dataset.save()"
   ],
   "id": "84a29a9313ee66dd",
   "outputs": [
    {
     "name": "stdout",
     "output_type": "stream",
     "text": [
      "Number of samples in train set: 3265\n",
      "Number of samples in test set: 817\n"
     ]
    }
   ],
   "execution_count": 4
  },
  {
   "metadata": {
    "ExecuteTime": {
     "end_time": "2025-03-21T16:34:28.487812Z",
     "start_time": "2025-03-21T16:34:28.442954Z"
    }
   },
   "cell_type": "code",
   "source": [
    "\n",
    "print(dataset.getDescriptors())\n",
    "# display(dataset.X.head())"
   ],
   "id": "565666f8ec92778",
   "outputs": [
    {
     "name": "stdout",
     "output_type": "stream",
     "text": [
      "                        MorganFP_MorganFP_0  MorganFP_MorganFP_1  \\\n",
      "QSPRID                                                             \n",
      "QuickStartDataset_0000                False                False   \n",
      "QuickStartDataset_0001                False                False   \n",
      "QuickStartDataset_0002                False                False   \n",
      "QuickStartDataset_0003                False                False   \n",
      "QuickStartDataset_0004                False                False   \n",
      "...                                     ...                  ...   \n",
      "QuickStartDataset_4077                False                False   \n",
      "QuickStartDataset_4078                False                False   \n",
      "QuickStartDataset_4079                False                False   \n",
      "QuickStartDataset_4080                False                False   \n",
      "QuickStartDataset_4081                False                 True   \n",
      "\n",
      "                        MorganFP_MorganFP_2  MorganFP_MorganFP_3  \\\n",
      "QSPRID                                                             \n",
      "QuickStartDataset_0000                False                False   \n",
      "QuickStartDataset_0001                False                False   \n",
      "QuickStartDataset_0002                False                False   \n",
      "QuickStartDataset_0003                False                False   \n",
      "QuickStartDataset_0004                False                False   \n",
      "...                                     ...                  ...   \n",
      "QuickStartDataset_4077                False                False   \n",
      "QuickStartDataset_4078                False                False   \n",
      "QuickStartDataset_4079                 True                False   \n",
      "QuickStartDataset_4080                False                False   \n",
      "QuickStartDataset_4081                False                False   \n",
      "\n",
      "                        MorganFP_MorganFP_4  MorganFP_MorganFP_5  \\\n",
      "QSPRID                                                             \n",
      "QuickStartDataset_0000                False                False   \n",
      "QuickStartDataset_0001                False                False   \n",
      "QuickStartDataset_0002                False                False   \n",
      "QuickStartDataset_0003                False                False   \n",
      "QuickStartDataset_0004                False                False   \n",
      "...                                     ...                  ...   \n",
      "QuickStartDataset_4077                False                False   \n",
      "QuickStartDataset_4078                False                False   \n",
      "QuickStartDataset_4079                 True                False   \n",
      "QuickStartDataset_4080                False                False   \n",
      "QuickStartDataset_4081                False                False   \n",
      "\n",
      "                        MorganFP_MorganFP_6  MorganFP_MorganFP_7  \\\n",
      "QSPRID                                                             \n",
      "QuickStartDataset_0000                False                False   \n",
      "QuickStartDataset_0001                False                False   \n",
      "QuickStartDataset_0002                False                False   \n",
      "QuickStartDataset_0003                False                False   \n",
      "QuickStartDataset_0004                False                False   \n",
      "...                                     ...                  ...   \n",
      "QuickStartDataset_4077                False                 True   \n",
      "QuickStartDataset_4078                False                 True   \n",
      "QuickStartDataset_4079                False                False   \n",
      "QuickStartDataset_4080                False                False   \n",
      "QuickStartDataset_4081                False                 True   \n",
      "\n",
      "                        MorganFP_MorganFP_8  MorganFP_MorganFP_9  ...  \\\n",
      "QSPRID                                                            ...   \n",
      "QuickStartDataset_0000                False                False  ...   \n",
      "QuickStartDataset_0001                False                False  ...   \n",
      "QuickStartDataset_0002                False                False  ...   \n",
      "QuickStartDataset_0003                False                False  ...   \n",
      "QuickStartDataset_0004                False                False  ...   \n",
      "...                                     ...                  ...  ...   \n",
      "QuickStartDataset_4077                False                False  ...   \n",
      "QuickStartDataset_4078                False                False  ...   \n",
      "QuickStartDataset_4079                False                False  ...   \n",
      "QuickStartDataset_4080                False                False  ...   \n",
      "QuickStartDataset_4081                False                False  ...   \n",
      "\n",
      "                        MorganFP_MorganFP_2038  MorganFP_MorganFP_2039  \\\n",
      "QSPRID                                                                   \n",
      "QuickStartDataset_0000                   False                   False   \n",
      "QuickStartDataset_0001                   False                   False   \n",
      "QuickStartDataset_0002                    True                   False   \n",
      "QuickStartDataset_0003                   False                   False   \n",
      "QuickStartDataset_0004                   False                   False   \n",
      "...                                        ...                     ...   \n",
      "QuickStartDataset_4077                   False                   False   \n",
      "QuickStartDataset_4078                    True                   False   \n",
      "QuickStartDataset_4079                   False                   False   \n",
      "QuickStartDataset_4080                   False                   False   \n",
      "QuickStartDataset_4081                   False                   False   \n",
      "\n",
      "                        MorganFP_MorganFP_2040  MorganFP_MorganFP_2041  \\\n",
      "QSPRID                                                                   \n",
      "QuickStartDataset_0000                   False                   False   \n",
      "QuickStartDataset_0001                   False                   False   \n",
      "QuickStartDataset_0002                   False                   False   \n",
      "QuickStartDataset_0003                   False                   False   \n",
      "QuickStartDataset_0004                   False                   False   \n",
      "...                                        ...                     ...   \n",
      "QuickStartDataset_4077                   False                   False   \n",
      "QuickStartDataset_4078                   False                   False   \n",
      "QuickStartDataset_4079                   False                   False   \n",
      "QuickStartDataset_4080                   False                   False   \n",
      "QuickStartDataset_4081                   False                   False   \n",
      "\n",
      "                        MorganFP_MorganFP_2042  MorganFP_MorganFP_2043  \\\n",
      "QSPRID                                                                   \n",
      "QuickStartDataset_0000                   False                   False   \n",
      "QuickStartDataset_0001                   False                   False   \n",
      "QuickStartDataset_0002                   False                   False   \n",
      "QuickStartDataset_0003                   False                   False   \n",
      "QuickStartDataset_0004                   False                   False   \n",
      "...                                        ...                     ...   \n",
      "QuickStartDataset_4077                   False                   False   \n",
      "QuickStartDataset_4078                   False                   False   \n",
      "QuickStartDataset_4079                   False                   False   \n",
      "QuickStartDataset_4080                   False                   False   \n",
      "QuickStartDataset_4081                   False                   False   \n",
      "\n",
      "                        MorganFP_MorganFP_2044  MorganFP_MorganFP_2045  \\\n",
      "QSPRID                                                                   \n",
      "QuickStartDataset_0000                   False                   False   \n",
      "QuickStartDataset_0001                   False                   False   \n",
      "QuickStartDataset_0002                   False                   False   \n",
      "QuickStartDataset_0003                   False                   False   \n",
      "QuickStartDataset_0004                   False                   False   \n",
      "...                                        ...                     ...   \n",
      "QuickStartDataset_4077                   False                   False   \n",
      "QuickStartDataset_4078                   False                   False   \n",
      "QuickStartDataset_4079                   False                   False   \n",
      "QuickStartDataset_4080                   False                   False   \n",
      "QuickStartDataset_4081                   False                   False   \n",
      "\n",
      "                        MorganFP_MorganFP_2046  MorganFP_MorganFP_2047  \n",
      "QSPRID                                                                  \n",
      "QuickStartDataset_0000                   False                   False  \n",
      "QuickStartDataset_0001                   False                   False  \n",
      "QuickStartDataset_0002                   False                   False  \n",
      "QuickStartDataset_0003                   False                   False  \n",
      "QuickStartDataset_0004                   False                   False  \n",
      "...                                        ...                     ...  \n",
      "QuickStartDataset_4077                   False                   False  \n",
      "QuickStartDataset_4078                   False                   False  \n",
      "QuickStartDataset_4079                   False                   False  \n",
      "QuickStartDataset_4080                   False                   False  \n",
      "QuickStartDataset_4081                   False                   False  \n",
      "\n",
      "[4082 rows x 2048 columns]\n"
     ]
    }
   ],
   "execution_count": 5
  },
  {
   "metadata": {
    "ExecuteTime": {
     "end_time": "2025-03-21T16:34:29.693193Z",
     "start_time": "2025-03-21T16:34:28.608788Z"
    }
   },
   "cell_type": "code",
   "source": [
    "import torch\n",
    "from sklearn.model_selection import ParameterGrid\n",
    "from sklearn.metrics import r2_score\n",
    "from torch.nn import functional as f\n",
    "from sklearn.metrics import mean_squared_error\n",
    "from qsprpred.extra.gpu.models.neural_network import STFullyConnected\n",
    "\n",
    "\n",
    "device = torch.device(\"cuda\" if torch.cuda.is_available() else \"cpu\")\n",
    "# p = {\"n_epochs\": [200],\n",
    "#                             \"lr\": [1e-4],\n",
    "#                             \"neurons_h1\": [2048],\n",
    "#                             \"neurons_hx\": [1024],\n",
    "#                             \"weight_decay\": [1e-4],\n",
    "#                             \"dropout_frac\": [0.0],\n",
    "#                             \"act_fun\": [f.selu]}\n",
    "x = STFullyConnected(\n",
    "        n_dim=dataset.X.shape[1],  # počet vstupních neuronů (počet deskriptorů)\n",
    "        n_class=1,  # regresní úloha (1 výstup)\n",
    "        gpus=[],\n",
    "        device=device,\n",
    "        batch_size=256,\n",
    "        patience=20,\n",
    "        tol=1e-4,\n",
    "        is_reg=True,\n",
    "        extra_layer=False,\n",
    "        act_fun=f.selu,\n",
    "    )\n",
    "x.fit(dataset.X, dataset.y)\n",
    "print(mean_squared_error(dataset.y_ind, x.predict(dataset.X_ind)))"
   ],
   "id": "c21973316c9d8a3a",
   "outputs": [
    {
     "name": "stdout",
     "output_type": "stream",
     "text": [
      "test\n",
      "[Linear(in_features=2048, out_features=256, bias=True), Linear(in_features=256, out_features=128, bias=True), Linear(in_features=128, out_features=1, bias=True)]\n",
      "Linear(in_features=2048, out_features=256, bias=True) Linear(in_features=256, out_features=128, bias=True) None Linear(in_features=128, out_features=1, bias=True)\n",
      "Input shape: torch.Size([256, 2048])\n",
      "Layer 0 input shape: torch.Size([256, 2048])\n",
      "Layer 0 output shape: torch.Size([256, 256])\n",
      "Layer 1 input shape: torch.Size([256, 256])\n",
      "Layer 1 output shape: torch.Size([256, 128])\n",
      "Layer 2 input shape: torch.Size([256, 128])\n",
      "Layer 2 output shape: torch.Size([256, 1])\n"
     ]
    },
    {
     "ename": "RuntimeError",
     "evalue": "mat1 and mat2 shapes cannot be multiplied (256x1 and 128x1)",
     "output_type": "error",
     "traceback": [
      "\u001B[0;31m---------------------------------------------------------------------------\u001B[0m",
      "\u001B[0;31mRuntimeError\u001B[0m                              Traceback (most recent call last)",
      "Cell \u001B[0;32mIn[6], line 29\u001B[0m\n\u001B[1;32m     10\u001B[0m \u001B[38;5;66;03m# p = {\"n_epochs\": [200],\u001B[39;00m\n\u001B[1;32m     11\u001B[0m \u001B[38;5;66;03m#                             \"lr\": [1e-4],\u001B[39;00m\n\u001B[1;32m     12\u001B[0m \u001B[38;5;66;03m#                             \"neurons_h1\": [2048],\u001B[39;00m\n\u001B[0;32m   (...)\u001B[0m\n\u001B[1;32m     15\u001B[0m \u001B[38;5;66;03m#                             \"dropout_frac\": [0.0],\u001B[39;00m\n\u001B[1;32m     16\u001B[0m \u001B[38;5;66;03m#                             \"act_fun\": [f.selu]}\u001B[39;00m\n\u001B[1;32m     17\u001B[0m x \u001B[38;5;241m=\u001B[39m STFullyConnected(\n\u001B[1;32m     18\u001B[0m         n_dim\u001B[38;5;241m=\u001B[39mdataset\u001B[38;5;241m.\u001B[39mX\u001B[38;5;241m.\u001B[39mshape[\u001B[38;5;241m1\u001B[39m],  \u001B[38;5;66;03m# počet vstupních neuronů (počet deskriptorů)\u001B[39;00m\n\u001B[1;32m     19\u001B[0m         n_class\u001B[38;5;241m=\u001B[39m\u001B[38;5;241m1\u001B[39m,  \u001B[38;5;66;03m# regresní úloha (1 výstup)\u001B[39;00m\n\u001B[0;32m   (...)\u001B[0m\n\u001B[1;32m     27\u001B[0m         act_fun\u001B[38;5;241m=\u001B[39mf\u001B[38;5;241m.\u001B[39mselu,\n\u001B[1;32m     28\u001B[0m     )\n\u001B[0;32m---> 29\u001B[0m x\u001B[38;5;241m.\u001B[39mfit(dataset\u001B[38;5;241m.\u001B[39mX, dataset\u001B[38;5;241m.\u001B[39my)\n\u001B[1;32m     30\u001B[0m \u001B[38;5;28mprint\u001B[39m(mean_squared_error(dataset\u001B[38;5;241m.\u001B[39my_ind, x\u001B[38;5;241m.\u001B[39mpredict(dataset\u001B[38;5;241m.\u001B[39mX_ind)))\n",
      "File \u001B[0;32m~/DataspellProjects/Bakalarka/QSPRpred/qsprpred/extra/gpu/models/neural_network.py:152\u001B[0m, in \u001B[0;36mBase.fit\u001B[0;34m(self, X_train, y_train, X_valid, y_valid, monitor)\u001B[0m\n\u001B[1;32m    150\u001B[0m optimizer\u001B[38;5;241m.\u001B[39mzero_grad()\n\u001B[1;32m    151\u001B[0m \u001B[38;5;66;03m# predicted probability tensor\u001B[39;00m\n\u001B[0;32m--> 152\u001B[0m y_ \u001B[38;5;241m=\u001B[39m \u001B[38;5;28mself\u001B[39m(Xb, is_train\u001B[38;5;241m=\u001B[39m\u001B[38;5;28;01mTrue\u001B[39;00m)\n\u001B[1;32m    153\u001B[0m \u001B[38;5;66;03m# ignore all the NaN values\u001B[39;00m\n\u001B[1;32m    154\u001B[0m ix \u001B[38;5;241m=\u001B[39m yb \u001B[38;5;241m==\u001B[39m yb\n",
      "File \u001B[0;32m~/anaconda3/envs/ml/lib/python3.11/site-packages/torch/nn/modules/module.py:1532\u001B[0m, in \u001B[0;36mModule._wrapped_call_impl\u001B[0;34m(self, *args, **kwargs)\u001B[0m\n\u001B[1;32m   1530\u001B[0m     \u001B[38;5;28;01mreturn\u001B[39;00m \u001B[38;5;28mself\u001B[39m\u001B[38;5;241m.\u001B[39m_compiled_call_impl(\u001B[38;5;241m*\u001B[39margs, \u001B[38;5;241m*\u001B[39m\u001B[38;5;241m*\u001B[39mkwargs)  \u001B[38;5;66;03m# type: ignore[misc]\u001B[39;00m\n\u001B[1;32m   1531\u001B[0m \u001B[38;5;28;01melse\u001B[39;00m:\n\u001B[0;32m-> 1532\u001B[0m     \u001B[38;5;28;01mreturn\u001B[39;00m \u001B[38;5;28mself\u001B[39m\u001B[38;5;241m.\u001B[39m_call_impl(\u001B[38;5;241m*\u001B[39margs, \u001B[38;5;241m*\u001B[39m\u001B[38;5;241m*\u001B[39mkwargs)\n",
      "File \u001B[0;32m~/anaconda3/envs/ml/lib/python3.11/site-packages/torch/nn/modules/module.py:1541\u001B[0m, in \u001B[0;36mModule._call_impl\u001B[0;34m(self, *args, **kwargs)\u001B[0m\n\u001B[1;32m   1536\u001B[0m \u001B[38;5;66;03m# If we don't have any hooks, we want to skip the rest of the logic in\u001B[39;00m\n\u001B[1;32m   1537\u001B[0m \u001B[38;5;66;03m# this function, and just call forward.\u001B[39;00m\n\u001B[1;32m   1538\u001B[0m \u001B[38;5;28;01mif\u001B[39;00m \u001B[38;5;129;01mnot\u001B[39;00m (\u001B[38;5;28mself\u001B[39m\u001B[38;5;241m.\u001B[39m_backward_hooks \u001B[38;5;129;01mor\u001B[39;00m \u001B[38;5;28mself\u001B[39m\u001B[38;5;241m.\u001B[39m_backward_pre_hooks \u001B[38;5;129;01mor\u001B[39;00m \u001B[38;5;28mself\u001B[39m\u001B[38;5;241m.\u001B[39m_forward_hooks \u001B[38;5;129;01mor\u001B[39;00m \u001B[38;5;28mself\u001B[39m\u001B[38;5;241m.\u001B[39m_forward_pre_hooks\n\u001B[1;32m   1539\u001B[0m         \u001B[38;5;129;01mor\u001B[39;00m _global_backward_pre_hooks \u001B[38;5;129;01mor\u001B[39;00m _global_backward_hooks\n\u001B[1;32m   1540\u001B[0m         \u001B[38;5;129;01mor\u001B[39;00m _global_forward_hooks \u001B[38;5;129;01mor\u001B[39;00m _global_forward_pre_hooks):\n\u001B[0;32m-> 1541\u001B[0m     \u001B[38;5;28;01mreturn\u001B[39;00m forward_call(\u001B[38;5;241m*\u001B[39margs, \u001B[38;5;241m*\u001B[39m\u001B[38;5;241m*\u001B[39mkwargs)\n\u001B[1;32m   1543\u001B[0m \u001B[38;5;28;01mtry\u001B[39;00m:\n\u001B[1;32m   1544\u001B[0m     result \u001B[38;5;241m=\u001B[39m \u001B[38;5;28;01mNone\u001B[39;00m\n",
      "File \u001B[0;32m~/DataspellProjects/Bakalarka/QSPRpred/qsprpred/extra/gpu/models/neural_network.py:529\u001B[0m, in \u001B[0;36mSTFullyConnected.forward\u001B[0;34m(self, X, is_train)\u001B[0m\n\u001B[1;32m    526\u001B[0m \u001B[38;5;66;03m# Final output layer, either for regression or classification\u001B[39;00m\n\u001B[1;32m    527\u001B[0m \u001B[38;5;28;01mif\u001B[39;00m \u001B[38;5;28mself\u001B[39m\u001B[38;5;241m.\u001B[39mis_reg:\n\u001B[1;32m    528\u001B[0m     \u001B[38;5;66;03m# If regression, no activation on the final layer (identity function)\u001B[39;00m\n\u001B[0;32m--> 529\u001B[0m     y \u001B[38;5;241m=\u001B[39m \u001B[38;5;28mself\u001B[39m\u001B[38;5;241m.\u001B[39mlayers[\u001B[38;5;241m-\u001B[39m\u001B[38;5;241m1\u001B[39m](y)\n\u001B[1;32m    530\u001B[0m \u001B[38;5;28;01melse\u001B[39;00m:\n\u001B[1;32m    531\u001B[0m     \u001B[38;5;66;03m# If classification, apply the final layer activation (e.g., Softmax, Sigmoid)\u001B[39;00m\n\u001B[1;32m    532\u001B[0m     y \u001B[38;5;241m=\u001B[39m \u001B[38;5;28mself\u001B[39m\u001B[38;5;241m.\u001B[39mfinal_layer_activation(\u001B[38;5;28mself\u001B[39m\u001B[38;5;241m.\u001B[39mlayers[\u001B[38;5;241m-\u001B[39m\u001B[38;5;241m1\u001B[39m](y))\n",
      "File \u001B[0;32m~/anaconda3/envs/ml/lib/python3.11/site-packages/torch/nn/modules/module.py:1532\u001B[0m, in \u001B[0;36mModule._wrapped_call_impl\u001B[0;34m(self, *args, **kwargs)\u001B[0m\n\u001B[1;32m   1530\u001B[0m     \u001B[38;5;28;01mreturn\u001B[39;00m \u001B[38;5;28mself\u001B[39m\u001B[38;5;241m.\u001B[39m_compiled_call_impl(\u001B[38;5;241m*\u001B[39margs, \u001B[38;5;241m*\u001B[39m\u001B[38;5;241m*\u001B[39mkwargs)  \u001B[38;5;66;03m# type: ignore[misc]\u001B[39;00m\n\u001B[1;32m   1531\u001B[0m \u001B[38;5;28;01melse\u001B[39;00m:\n\u001B[0;32m-> 1532\u001B[0m     \u001B[38;5;28;01mreturn\u001B[39;00m \u001B[38;5;28mself\u001B[39m\u001B[38;5;241m.\u001B[39m_call_impl(\u001B[38;5;241m*\u001B[39margs, \u001B[38;5;241m*\u001B[39m\u001B[38;5;241m*\u001B[39mkwargs)\n",
      "File \u001B[0;32m~/anaconda3/envs/ml/lib/python3.11/site-packages/torch/nn/modules/module.py:1541\u001B[0m, in \u001B[0;36mModule._call_impl\u001B[0;34m(self, *args, **kwargs)\u001B[0m\n\u001B[1;32m   1536\u001B[0m \u001B[38;5;66;03m# If we don't have any hooks, we want to skip the rest of the logic in\u001B[39;00m\n\u001B[1;32m   1537\u001B[0m \u001B[38;5;66;03m# this function, and just call forward.\u001B[39;00m\n\u001B[1;32m   1538\u001B[0m \u001B[38;5;28;01mif\u001B[39;00m \u001B[38;5;129;01mnot\u001B[39;00m (\u001B[38;5;28mself\u001B[39m\u001B[38;5;241m.\u001B[39m_backward_hooks \u001B[38;5;129;01mor\u001B[39;00m \u001B[38;5;28mself\u001B[39m\u001B[38;5;241m.\u001B[39m_backward_pre_hooks \u001B[38;5;129;01mor\u001B[39;00m \u001B[38;5;28mself\u001B[39m\u001B[38;5;241m.\u001B[39m_forward_hooks \u001B[38;5;129;01mor\u001B[39;00m \u001B[38;5;28mself\u001B[39m\u001B[38;5;241m.\u001B[39m_forward_pre_hooks\n\u001B[1;32m   1539\u001B[0m         \u001B[38;5;129;01mor\u001B[39;00m _global_backward_pre_hooks \u001B[38;5;129;01mor\u001B[39;00m _global_backward_hooks\n\u001B[1;32m   1540\u001B[0m         \u001B[38;5;129;01mor\u001B[39;00m _global_forward_hooks \u001B[38;5;129;01mor\u001B[39;00m _global_forward_pre_hooks):\n\u001B[0;32m-> 1541\u001B[0m     \u001B[38;5;28;01mreturn\u001B[39;00m forward_call(\u001B[38;5;241m*\u001B[39margs, \u001B[38;5;241m*\u001B[39m\u001B[38;5;241m*\u001B[39mkwargs)\n\u001B[1;32m   1543\u001B[0m \u001B[38;5;28;01mtry\u001B[39;00m:\n\u001B[1;32m   1544\u001B[0m     result \u001B[38;5;241m=\u001B[39m \u001B[38;5;28;01mNone\u001B[39;00m\n",
      "File \u001B[0;32m~/anaconda3/envs/ml/lib/python3.11/site-packages/torch/nn/modules/linear.py:116\u001B[0m, in \u001B[0;36mLinear.forward\u001B[0;34m(self, input)\u001B[0m\n\u001B[1;32m    115\u001B[0m \u001B[38;5;28;01mdef\u001B[39;00m \u001B[38;5;21mforward\u001B[39m(\u001B[38;5;28mself\u001B[39m, \u001B[38;5;28minput\u001B[39m: Tensor) \u001B[38;5;241m-\u001B[39m\u001B[38;5;241m>\u001B[39m Tensor:\n\u001B[0;32m--> 116\u001B[0m     \u001B[38;5;28;01mreturn\u001B[39;00m F\u001B[38;5;241m.\u001B[39mlinear(\u001B[38;5;28minput\u001B[39m, \u001B[38;5;28mself\u001B[39m\u001B[38;5;241m.\u001B[39mweight, \u001B[38;5;28mself\u001B[39m\u001B[38;5;241m.\u001B[39mbias)\n",
      "\u001B[0;31mRuntimeError\u001B[0m: mat1 and mat2 shapes cannot be multiplied (256x1 and 128x1)"
     ]
    }
   ],
   "execution_count": 6
  },
  {
   "metadata": {
    "ExecuteTime": {
     "end_time": "2025-03-21T14:04:30.179365Z",
     "start_time": "2025-03-21T14:04:29.904321Z"
    }
   },
   "cell_type": "code",
   "source": [
    "\n",
    "test.fit(dataset.X, dataset.y)\n",
    "# print(mean_squared_error(test.predict(dataset.X_ind), dataset.y_ind))"
   ],
   "id": "d862eeb137f8a906",
   "outputs": [
    {
     "ename": "NameError",
     "evalue": "name 'test' is not defined",
     "output_type": "error",
     "traceback": [
      "\u001B[0;31m---------------------------------------------------------------------------\u001B[0m",
      "\u001B[0;31mNameError\u001B[0m                                 Traceback (most recent call last)",
      "Cell \u001B[0;32mIn[7], line 1\u001B[0m\n\u001B[0;32m----> 1\u001B[0m test\u001B[38;5;241m.\u001B[39mfit(dataset\u001B[38;5;241m.\u001B[39mX, dataset\u001B[38;5;241m.\u001B[39my)\n",
      "\u001B[0;31mNameError\u001B[0m: name 'test' is not defined"
     ]
    }
   ],
   "execution_count": 7
  },
  {
   "metadata": {
    "ExecuteTime": {
     "end_time": "2025-03-21T14:04:30.182696Z",
     "start_time": "2025-03-19T01:07:27.574003Z"
    }
   },
   "cell_type": "code",
   "source": [
    "print(dataset.X.shape[1])\n",
    "print(dataset.hasFeatures)"
   ],
   "id": "6306131e5a82c7aa",
   "outputs": [
    {
     "name": "stdout",
     "output_type": "stream",
     "text": [
      "2048\n",
      "True\n"
     ]
    }
   ],
   "execution_count": 7
  },
  {
   "metadata": {
    "ExecuteTime": {
     "end_time": "2025-03-21T14:04:30.182844Z",
     "start_time": "2025-03-19T10:36:28.848863Z"
    }
   },
   "cell_type": "code",
   "source": "display(dataset.X.head())",
   "id": "78e69e86a8625bec",
   "outputs": [
    {
     "data": {
      "text/plain": [
       "MolGridWidget()"
      ],
      "application/vnd.jupyter.widget-view+json": {
       "version_major": 2,
       "version_minor": 0,
       "model_id": "db3a04fe96d24036bb5876d8e7a77b07"
      }
     },
     "metadata": {},
     "output_type": "display_data"
    },
    {
     "ename": "KeyError",
     "evalue": "\"['SMILES'] not in index\"",
     "output_type": "error",
     "traceback": [
      "\u001B[0;31m---------------------------------------------------------------------------\u001B[0m",
      "\u001B[0;31mKeyError\u001B[0m                                  Traceback (most recent call last)",
      "Cell \u001B[0;32mIn[10], line 1\u001B[0m\n\u001B[0;32m----> 1\u001B[0m display(dataset\u001B[38;5;241m.\u001B[39mX\u001B[38;5;241m.\u001B[39mhead())\n",
      "File \u001B[0;32m~/anaconda3/envs/ml/lib/python3.11/functools.py:909\u001B[0m, in \u001B[0;36msingledispatch.<locals>.wrapper\u001B[0;34m(*args, **kw)\u001B[0m\n\u001B[1;32m    905\u001B[0m \u001B[38;5;28;01mif\u001B[39;00m \u001B[38;5;129;01mnot\u001B[39;00m args:\n\u001B[1;32m    906\u001B[0m     \u001B[38;5;28;01mraise\u001B[39;00m \u001B[38;5;167;01mTypeError\u001B[39;00m(\u001B[38;5;124mf\u001B[39m\u001B[38;5;124m'\u001B[39m\u001B[38;5;132;01m{\u001B[39;00mfuncname\u001B[38;5;132;01m}\u001B[39;00m\u001B[38;5;124m requires at least \u001B[39m\u001B[38;5;124m'\u001B[39m\n\u001B[1;32m    907\u001B[0m                     \u001B[38;5;124m'\u001B[39m\u001B[38;5;124m1 positional argument\u001B[39m\u001B[38;5;124m'\u001B[39m)\n\u001B[0;32m--> 909\u001B[0m \u001B[38;5;28;01mreturn\u001B[39;00m dispatch(args[\u001B[38;5;241m0\u001B[39m]\u001B[38;5;241m.\u001B[39m\u001B[38;5;18m__class__\u001B[39m)(\u001B[38;5;241m*\u001B[39margs, \u001B[38;5;241m*\u001B[39m\u001B[38;5;241m*\u001B[39mkw)\n",
      "File \u001B[0;32m~/anaconda3/envs/ml/lib/python3.11/site-packages/mols2grid/dispatch.py:241\u001B[0m, in \u001B[0;36m_\u001B[0;34m(df, **kwargs)\u001B[0m\n\u001B[1;32m    237\u001B[0m \u001B[38;5;129m@display\u001B[39m\u001B[38;5;241m.\u001B[39mregister(DataFrame)\n\u001B[1;32m    238\u001B[0m \u001B[38;5;129m@display\u001B[39m\u001B[38;5;241m.\u001B[39mregister(\u001B[38;5;28mdict\u001B[39m)\n\u001B[1;32m    239\u001B[0m \u001B[38;5;28;01mdef\u001B[39;00m \u001B[38;5;21m_\u001B[39m(df, \u001B[38;5;241m*\u001B[39m\u001B[38;5;241m*\u001B[39mkwargs):\n\u001B[1;32m    240\u001B[0m     template, kwargs, render_kwargs \u001B[38;5;241m=\u001B[39m _prepare_kwargs(kwargs, \u001B[38;5;124m\"\u001B[39m\u001B[38;5;124mdisplay\u001B[39m\u001B[38;5;124m\"\u001B[39m)\n\u001B[0;32m--> 241\u001B[0m     \u001B[38;5;28;01mreturn\u001B[39;00m MolGrid(df, \u001B[38;5;241m*\u001B[39m\u001B[38;5;241m*\u001B[39mkwargs)\u001B[38;5;241m.\u001B[39mdisplay(template\u001B[38;5;241m=\u001B[39mtemplate, \u001B[38;5;241m*\u001B[39m\u001B[38;5;241m*\u001B[39mrender_kwargs)\n",
      "File \u001B[0;32m~/anaconda3/envs/ml/lib/python3.11/site-packages/mols2grid/utils.py:22\u001B[0m, in \u001B[0;36mrequires.<locals>.inner.<locals>.wrapper\u001B[0;34m(*args, **kwargs)\u001B[0m\n\u001B[1;32m     19\u001B[0m \u001B[38;5;129m@wraps\u001B[39m(func)\n\u001B[1;32m     20\u001B[0m \u001B[38;5;28;01mdef\u001B[39;00m \u001B[38;5;21mwrapper\u001B[39m(\u001B[38;5;241m*\u001B[39margs, \u001B[38;5;241m*\u001B[39m\u001B[38;5;241m*\u001B[39mkwargs):\n\u001B[1;32m     21\u001B[0m     \u001B[38;5;28;01mif\u001B[39;00m find_spec(module):\n\u001B[0;32m---> 22\u001B[0m         \u001B[38;5;28;01mreturn\u001B[39;00m func(\u001B[38;5;241m*\u001B[39margs, \u001B[38;5;241m*\u001B[39m\u001B[38;5;241m*\u001B[39mkwargs)\n\u001B[1;32m     23\u001B[0m     \u001B[38;5;28;01mraise\u001B[39;00m \u001B[38;5;167;01mModuleNotFoundError\u001B[39;00m(\n\u001B[1;32m     24\u001B[0m         \u001B[38;5;124mf\u001B[39m\u001B[38;5;124m\"\u001B[39m\u001B[38;5;124mThe module \u001B[39m\u001B[38;5;132;01m{\u001B[39;00mmodule\u001B[38;5;132;01m!r}\u001B[39;00m\u001B[38;5;124m is required to use \u001B[39m\u001B[38;5;132;01m{\u001B[39;00mfunc\u001B[38;5;241m.\u001B[39m\u001B[38;5;18m__name__\u001B[39m\u001B[38;5;132;01m!r}\u001B[39;00m\u001B[38;5;124m \u001B[39m\u001B[38;5;124m\"\u001B[39m\n\u001B[1;32m     25\u001B[0m         \u001B[38;5;124m\"\u001B[39m\u001B[38;5;124mbut it is not installed!\u001B[39m\u001B[38;5;124m\"\u001B[39m\n\u001B[1;32m     26\u001B[0m     )\n",
      "File \u001B[0;32m~/anaconda3/envs/ml/lib/python3.11/site-packages/mols2grid/molgrid.py:1070\u001B[0m, in \u001B[0;36mMolGrid.display\u001B[0;34m(self, use_iframe, iframe_width, iframe_height, iframe_allow, iframe_sandbox, **kwargs)\u001B[0m\n\u001B[1;32m   1063\u001B[0m \u001B[38;5;250m\u001B[39m\u001B[38;5;124;03m\"\"\"Render and display the grid in a Jupyter notebook.\u001B[39;00m\n\u001B[1;32m   1064\u001B[0m \n\u001B[1;32m   1065\u001B[0m \u001B[38;5;124;03mReturns\u001B[39;00m\n\u001B[1;32m   1066\u001B[0m \u001B[38;5;124;03m-------\u001B[39;00m\n\u001B[1;32m   1067\u001B[0m \u001B[38;5;124;03mview : IPython.core.display.HTML\u001B[39;00m\n\u001B[1;32m   1068\u001B[0m \u001B[38;5;124;03m\"\"\"\u001B[39;00m\n\u001B[1;32m   1069\u001B[0m use_iframe \u001B[38;5;241m=\u001B[39m is_jupyter \u001B[38;5;129;01mor\u001B[39;00m use_iframe\n\u001B[0;32m-> 1070\u001B[0m doc \u001B[38;5;241m=\u001B[39m \u001B[38;5;28mself\u001B[39m\u001B[38;5;241m.\u001B[39mrender(\u001B[38;5;241m*\u001B[39m\u001B[38;5;241m*\u001B[39mkwargs, use_iframe\u001B[38;5;241m=\u001B[39muse_iframe)\n\u001B[1;32m   1071\u001B[0m \u001B[38;5;28;01mif\u001B[39;00m use_iframe:\n\u001B[1;32m   1072\u001B[0m     \u001B[38;5;66;03m# Render HTML in iframe.\u001B[39;00m\n\u001B[1;32m   1073\u001B[0m     iframe \u001B[38;5;241m=\u001B[39m env\u001B[38;5;241m.\u001B[39mget_template(\u001B[38;5;124m\"\u001B[39m\u001B[38;5;124mhtml/iframe.html\u001B[39m\u001B[38;5;124m\"\u001B[39m)\u001B[38;5;241m.\u001B[39mrender(\n\u001B[1;32m   1074\u001B[0m         width\u001B[38;5;241m=\u001B[39miframe_width,\n\u001B[1;32m   1075\u001B[0m         height\u001B[38;5;241m=\u001B[39miframe_height,\n\u001B[0;32m   (...)\u001B[0m\n\u001B[1;32m   1078\u001B[0m         doc\u001B[38;5;241m=\u001B[39mescape(doc),\n\u001B[1;32m   1079\u001B[0m     )\n",
      "File \u001B[0;32m~/anaconda3/envs/ml/lib/python3.11/site-packages/mols2grid/molgrid.py:339\u001B[0m, in \u001B[0;36mMolGrid.render\u001B[0;34m(self, template, **kwargs)\u001B[0m\n\u001B[1;32m    319\u001B[0m \u001B[38;5;250m\u001B[39m\u001B[38;5;124;03m\"\"\"Returns the HTML document corresponding to the \"interactive\" or \"static\"\u001B[39;00m\n\u001B[1;32m    320\u001B[0m \u001B[38;5;124;03mtemplate. See :meth:`to_interactive` and :meth:`to_static` for the full list\u001B[39;00m\n\u001B[1;32m    321\u001B[0m \u001B[38;5;124;03mof arguments.\u001B[39;00m\n\u001B[0;32m   (...)\u001B[0m\n\u001B[1;32m    336\u001B[0m \u001B[38;5;124;03m        file. Most of the interactive actions aren't available.\u001B[39;00m\n\u001B[1;32m    337\u001B[0m \u001B[38;5;124;03m\"\"\"\u001B[39;00m\n\u001B[1;32m    338\u001B[0m \u001B[38;5;28mself\u001B[39m\u001B[38;5;241m.\u001B[39mtemplate \u001B[38;5;241m=\u001B[39m template\n\u001B[0;32m--> 339\u001B[0m \u001B[38;5;28;01mreturn\u001B[39;00m \u001B[38;5;28mgetattr\u001B[39m(\u001B[38;5;28mself\u001B[39m, \u001B[38;5;124mf\u001B[39m\u001B[38;5;124m\"\u001B[39m\u001B[38;5;124mto_\u001B[39m\u001B[38;5;132;01m{\u001B[39;00m\u001B[38;5;28mself\u001B[39m\u001B[38;5;241m.\u001B[39mtemplate\u001B[38;5;132;01m}\u001B[39;00m\u001B[38;5;124m\"\u001B[39m)(\u001B[38;5;241m*\u001B[39m\u001B[38;5;241m*\u001B[39mkwargs)\n",
      "File \u001B[0;32m~/anaconda3/envs/ml/lib/python3.11/site-packages/mols2grid/molgrid.py:727\u001B[0m, in \u001B[0;36mMolGrid.to_interactive\u001B[0;34m(self, subset, tooltip, tooltip_fmt, tooltip_placement, transform, sort_by, use_iframe, truncate, n_items_per_page, selection, substruct_highlight, single_highlight, border, gap, pad, fontsize, fontfamily, textalign, background_color, hover_color, custom_css, style, custom_header, callback, **kwargs)\u001B[0m\n\u001B[1;32m    725\u001B[0m search_cols \u001B[38;5;241m=\u001B[39m [slugify(c) \u001B[38;5;28;01mfor\u001B[39;00m c \u001B[38;5;129;01min\u001B[39;00m search_cols]\n\u001B[1;32m    726\u001B[0m smiles \u001B[38;5;241m=\u001B[39m slugify(smiles)\n\u001B[0;32m--> 727\u001B[0m df \u001B[38;5;241m=\u001B[39m df[final_columns]\u001B[38;5;241m.\u001B[39mrename(columns\u001B[38;5;241m=\u001B[39mcolumn_map)\u001B[38;5;241m.\u001B[39msort_values(sort_by)\n\u001B[1;32m    729\u001B[0m template \u001B[38;5;241m=\u001B[39m env\u001B[38;5;241m.\u001B[39mget_template(\u001B[38;5;124m\"\u001B[39m\u001B[38;5;124minteractive.html\u001B[39m\u001B[38;5;124m\"\u001B[39m)\n\u001B[1;32m    730\u001B[0m template_kwargs \u001B[38;5;241m=\u001B[39m \u001B[38;5;28mdict\u001B[39m(\n\u001B[1;32m    731\u001B[0m     tooltip\u001B[38;5;241m=\u001B[39mtooltip,\n\u001B[1;32m    732\u001B[0m     tooltip_placement\u001B[38;5;241m=\u001B[39m\u001B[38;5;28mrepr\u001B[39m(tooltip_placement),\n\u001B[0;32m   (...)\u001B[0m\n\u001B[1;32m    782\u001B[0m     single_highlight\u001B[38;5;241m=\u001B[39msingle_highlight,\n\u001B[1;32m    783\u001B[0m )\n",
      "File \u001B[0;32m~/anaconda3/envs/ml/lib/python3.11/site-packages/pandas/core/frame.py:4108\u001B[0m, in \u001B[0;36mDataFrame.__getitem__\u001B[0;34m(self, key)\u001B[0m\n\u001B[1;32m   4106\u001B[0m     \u001B[38;5;28;01mif\u001B[39;00m is_iterator(key):\n\u001B[1;32m   4107\u001B[0m         key \u001B[38;5;241m=\u001B[39m \u001B[38;5;28mlist\u001B[39m(key)\n\u001B[0;32m-> 4108\u001B[0m     indexer \u001B[38;5;241m=\u001B[39m \u001B[38;5;28mself\u001B[39m\u001B[38;5;241m.\u001B[39mcolumns\u001B[38;5;241m.\u001B[39m_get_indexer_strict(key, \u001B[38;5;124m\"\u001B[39m\u001B[38;5;124mcolumns\u001B[39m\u001B[38;5;124m\"\u001B[39m)[\u001B[38;5;241m1\u001B[39m]\n\u001B[1;32m   4110\u001B[0m \u001B[38;5;66;03m# take() does not accept boolean indexers\u001B[39;00m\n\u001B[1;32m   4111\u001B[0m \u001B[38;5;28;01mif\u001B[39;00m \u001B[38;5;28mgetattr\u001B[39m(indexer, \u001B[38;5;124m\"\u001B[39m\u001B[38;5;124mdtype\u001B[39m\u001B[38;5;124m\"\u001B[39m, \u001B[38;5;28;01mNone\u001B[39;00m) \u001B[38;5;241m==\u001B[39m \u001B[38;5;28mbool\u001B[39m:\n",
      "File \u001B[0;32m~/anaconda3/envs/ml/lib/python3.11/site-packages/pandas/core/indexes/base.py:6200\u001B[0m, in \u001B[0;36mIndex._get_indexer_strict\u001B[0;34m(self, key, axis_name)\u001B[0m\n\u001B[1;32m   6197\u001B[0m \u001B[38;5;28;01melse\u001B[39;00m:\n\u001B[1;32m   6198\u001B[0m     keyarr, indexer, new_indexer \u001B[38;5;241m=\u001B[39m \u001B[38;5;28mself\u001B[39m\u001B[38;5;241m.\u001B[39m_reindex_non_unique(keyarr)\n\u001B[0;32m-> 6200\u001B[0m \u001B[38;5;28mself\u001B[39m\u001B[38;5;241m.\u001B[39m_raise_if_missing(keyarr, indexer, axis_name)\n\u001B[1;32m   6202\u001B[0m keyarr \u001B[38;5;241m=\u001B[39m \u001B[38;5;28mself\u001B[39m\u001B[38;5;241m.\u001B[39mtake(indexer)\n\u001B[1;32m   6203\u001B[0m \u001B[38;5;28;01mif\u001B[39;00m \u001B[38;5;28misinstance\u001B[39m(key, Index):\n\u001B[1;32m   6204\u001B[0m     \u001B[38;5;66;03m# GH 42790 - Preserve name from an Index\u001B[39;00m\n",
      "File \u001B[0;32m~/anaconda3/envs/ml/lib/python3.11/site-packages/pandas/core/indexes/base.py:6252\u001B[0m, in \u001B[0;36mIndex._raise_if_missing\u001B[0;34m(self, key, indexer, axis_name)\u001B[0m\n\u001B[1;32m   6249\u001B[0m     \u001B[38;5;28;01mraise\u001B[39;00m \u001B[38;5;167;01mKeyError\u001B[39;00m(\u001B[38;5;124mf\u001B[39m\u001B[38;5;124m\"\u001B[39m\u001B[38;5;124mNone of [\u001B[39m\u001B[38;5;132;01m{\u001B[39;00mkey\u001B[38;5;132;01m}\u001B[39;00m\u001B[38;5;124m] are in the [\u001B[39m\u001B[38;5;132;01m{\u001B[39;00maxis_name\u001B[38;5;132;01m}\u001B[39;00m\u001B[38;5;124m]\u001B[39m\u001B[38;5;124m\"\u001B[39m)\n\u001B[1;32m   6251\u001B[0m not_found \u001B[38;5;241m=\u001B[39m \u001B[38;5;28mlist\u001B[39m(ensure_index(key)[missing_mask\u001B[38;5;241m.\u001B[39mnonzero()[\u001B[38;5;241m0\u001B[39m]]\u001B[38;5;241m.\u001B[39munique())\n\u001B[0;32m-> 6252\u001B[0m \u001B[38;5;28;01mraise\u001B[39;00m \u001B[38;5;167;01mKeyError\u001B[39;00m(\u001B[38;5;124mf\u001B[39m\u001B[38;5;124m\"\u001B[39m\u001B[38;5;132;01m{\u001B[39;00mnot_found\u001B[38;5;132;01m}\u001B[39;00m\u001B[38;5;124m not in index\u001B[39m\u001B[38;5;124m\"\u001B[39m)\n",
      "\u001B[0;31mKeyError\u001B[0m: \"['SMILES'] not in index\""
     ]
    }
   ],
   "execution_count": 10
  },
  {
   "metadata": {
    "ExecuteTime": {
     "end_time": "2025-03-21T14:15:42.908417Z",
     "start_time": "2025-03-21T14:15:19.221981Z"
    }
   },
   "cell_type": "code",
   "source": [
    "\n",
    "\n",
    "\n",
    "\n",
    "param_grid = ParameterGrid({\"n_epochs\": [200],\n",
    "                            \"lr\": [1e-4],\n",
    "                            \"neurons_h1\": [2048],\n",
    "                            \"neurons_hx\": [1024],\n",
    "                            \"weight_decay\": [1e-4],\n",
    "                            \"dropout_frac\": [0.0],\n",
    "                            \"act_fun\": [f.selu]})  #selu\n",
    "val_accuracies = []\n",
    "val_accuracies_r = []\n",
    "ind = 0\n",
    "\n",
    "for params in param_grid:\n",
    "    ind += 1\n",
    "    print(ind, '/', len(param_grid))\n",
    "    model_nn = STFullyConnected(\n",
    "        n_dim=dataset.X.shape[1],  # počet vstupních neuronů (počet deskriptorů)\n",
    "        n_class=1,  # regresní úloha (1 výstup)\n",
    "        gpus=[],\n",
    "        device=device,\n",
    "        batch_size=256,\n",
    "        patience=20,\n",
    "        tol=1e-4,\n",
    "        is_reg=True,\n",
    "        extra_layer=True,\n",
    "        **params\n",
    "    )\n",
    "    print(model_nn.get_params())\n",
    "    model_nn.fit(dataset.X, dataset.y)\n",
    "    print(params[\"act_fun\"], mean_squared_error(model_nn.predict(dataset.X_ind), dataset.y_ind))\n",
    "    val_accuracies.append(mean_squared_error(model_nn.predict(dataset.X_ind), dataset.y_ind))\n",
    "    val_accuracies_r.append(r2_score(model_nn.predict(dataset.X_ind), dataset.y_ind))\n",
    "\n",
    "\n",
    "\n",
    "\n",
    "\n",
    "\n",
    "\n"
   ],
   "id": "5f9c655991dda15b",
   "outputs": [
    {
     "name": "stdout",
     "output_type": "stream",
     "text": [
      "1 / 1\n",
      "[Linear(in_features=2048, out_features=256, bias=True), Linear(in_features=256, out_features=128, bias=True), Linear(in_features=128, out_features=1, bias=True)]\n",
      "Linear(in_features=2048, out_features=2048, bias=True) Linear(in_features=2048, out_features=1024, bias=True) Linear(in_features=1024, out_features=1024, bias=True) Linear(in_features=1024, out_features=1, bias=True)\n",
      "{'act_fun': <function selu at 0x13300a160>, 'batch_size': 256, 'device': device(type='cpu'), 'dropout_frac': 0.0, 'extra_layer': True, 'gpus': [], 'is_reg': True, 'lr': 0.0001, 'n_class': 1, 'n_dim': 2048, 'n_epochs': 200, 'neuron_layers': [256, 128], 'neurons_h1': 2048, 'neurons_hx': 1024, 'patience': 20, 'tol': 0.0001, 'weight_decay': 0.0001}\n"
     ]
    },
    {
     "ename": "KeyboardInterrupt",
     "evalue": "",
     "output_type": "error",
     "traceback": [
      "\u001B[0;31m---------------------------------------------------------------------------\u001B[0m",
      "\u001B[0;31mKeyboardInterrupt\u001B[0m                         Traceback (most recent call last)",
      "Cell \u001B[0;32mIn[12], line 28\u001B[0m\n\u001B[1;32m     15\u001B[0m model_nn \u001B[38;5;241m=\u001B[39m STFullyConnected(\n\u001B[1;32m     16\u001B[0m     n_dim\u001B[38;5;241m=\u001B[39mdataset\u001B[38;5;241m.\u001B[39mX\u001B[38;5;241m.\u001B[39mshape[\u001B[38;5;241m1\u001B[39m],  \u001B[38;5;66;03m# počet vstupních neuronů (počet deskriptorů)\u001B[39;00m\n\u001B[1;32m     17\u001B[0m     n_class\u001B[38;5;241m=\u001B[39m\u001B[38;5;241m1\u001B[39m,  \u001B[38;5;66;03m# regresní úloha (1 výstup)\u001B[39;00m\n\u001B[0;32m   (...)\u001B[0m\n\u001B[1;32m     25\u001B[0m     \u001B[38;5;241m*\u001B[39m\u001B[38;5;241m*\u001B[39mparams\n\u001B[1;32m     26\u001B[0m )\n\u001B[1;32m     27\u001B[0m \u001B[38;5;28mprint\u001B[39m(model_nn\u001B[38;5;241m.\u001B[39mget_params())\n\u001B[0;32m---> 28\u001B[0m model_nn\u001B[38;5;241m.\u001B[39mfit(dataset\u001B[38;5;241m.\u001B[39mX, dataset\u001B[38;5;241m.\u001B[39my)\n\u001B[1;32m     29\u001B[0m \u001B[38;5;28mprint\u001B[39m(params[\u001B[38;5;124m\"\u001B[39m\u001B[38;5;124mact_fun\u001B[39m\u001B[38;5;124m\"\u001B[39m], mean_squared_error(model_nn\u001B[38;5;241m.\u001B[39mpredict(dataset\u001B[38;5;241m.\u001B[39mX_ind), dataset\u001B[38;5;241m.\u001B[39my_ind))\n\u001B[1;32m     30\u001B[0m val_accuracies\u001B[38;5;241m.\u001B[39mappend(mean_squared_error(model_nn\u001B[38;5;241m.\u001B[39mpredict(dataset\u001B[38;5;241m.\u001B[39mX_ind), dataset\u001B[38;5;241m.\u001B[39my_ind))\n",
      "File \u001B[0;32m~/DataspellProjects/Bakalarka/QSPRpred/qsprpred/extra/gpu/models/neural_network.py:151\u001B[0m, in \u001B[0;36mBase.fit\u001B[0;34m(self, X_train, y_train, X_valid, y_valid, monitor)\u001B[0m\n\u001B[1;32m    149\u001B[0m optimizer\u001B[38;5;241m.\u001B[39mzero_grad()\n\u001B[1;32m    150\u001B[0m \u001B[38;5;66;03m# predicted probability tensor\u001B[39;00m\n\u001B[0;32m--> 151\u001B[0m y_ \u001B[38;5;241m=\u001B[39m \u001B[38;5;28mself\u001B[39m(Xb, is_train\u001B[38;5;241m=\u001B[39m\u001B[38;5;28;01mTrue\u001B[39;00m)\n\u001B[1;32m    152\u001B[0m \u001B[38;5;66;03m# ignore all the NaN values\u001B[39;00m\n\u001B[1;32m    153\u001B[0m ix \u001B[38;5;241m=\u001B[39m yb \u001B[38;5;241m==\u001B[39m yb\n",
      "File \u001B[0;32m~/anaconda3/envs/ml/lib/python3.11/site-packages/torch/nn/modules/module.py:1532\u001B[0m, in \u001B[0;36mModule._wrapped_call_impl\u001B[0;34m(self, *args, **kwargs)\u001B[0m\n\u001B[1;32m   1530\u001B[0m     \u001B[38;5;28;01mreturn\u001B[39;00m \u001B[38;5;28mself\u001B[39m\u001B[38;5;241m.\u001B[39m_compiled_call_impl(\u001B[38;5;241m*\u001B[39margs, \u001B[38;5;241m*\u001B[39m\u001B[38;5;241m*\u001B[39mkwargs)  \u001B[38;5;66;03m# type: ignore[misc]\u001B[39;00m\n\u001B[1;32m   1531\u001B[0m \u001B[38;5;28;01melse\u001B[39;00m:\n\u001B[0;32m-> 1532\u001B[0m     \u001B[38;5;28;01mreturn\u001B[39;00m \u001B[38;5;28mself\u001B[39m\u001B[38;5;241m.\u001B[39m_call_impl(\u001B[38;5;241m*\u001B[39margs, \u001B[38;5;241m*\u001B[39m\u001B[38;5;241m*\u001B[39mkwargs)\n",
      "File \u001B[0;32m~/anaconda3/envs/ml/lib/python3.11/site-packages/torch/nn/modules/module.py:1541\u001B[0m, in \u001B[0;36mModule._call_impl\u001B[0;34m(self, *args, **kwargs)\u001B[0m\n\u001B[1;32m   1536\u001B[0m \u001B[38;5;66;03m# If we don't have any hooks, we want to skip the rest of the logic in\u001B[39;00m\n\u001B[1;32m   1537\u001B[0m \u001B[38;5;66;03m# this function, and just call forward.\u001B[39;00m\n\u001B[1;32m   1538\u001B[0m \u001B[38;5;28;01mif\u001B[39;00m \u001B[38;5;129;01mnot\u001B[39;00m (\u001B[38;5;28mself\u001B[39m\u001B[38;5;241m.\u001B[39m_backward_hooks \u001B[38;5;129;01mor\u001B[39;00m \u001B[38;5;28mself\u001B[39m\u001B[38;5;241m.\u001B[39m_backward_pre_hooks \u001B[38;5;129;01mor\u001B[39;00m \u001B[38;5;28mself\u001B[39m\u001B[38;5;241m.\u001B[39m_forward_hooks \u001B[38;5;129;01mor\u001B[39;00m \u001B[38;5;28mself\u001B[39m\u001B[38;5;241m.\u001B[39m_forward_pre_hooks\n\u001B[1;32m   1539\u001B[0m         \u001B[38;5;129;01mor\u001B[39;00m _global_backward_pre_hooks \u001B[38;5;129;01mor\u001B[39;00m _global_backward_hooks\n\u001B[1;32m   1540\u001B[0m         \u001B[38;5;129;01mor\u001B[39;00m _global_forward_hooks \u001B[38;5;129;01mor\u001B[39;00m _global_forward_pre_hooks):\n\u001B[0;32m-> 1541\u001B[0m     \u001B[38;5;28;01mreturn\u001B[39;00m forward_call(\u001B[38;5;241m*\u001B[39margs, \u001B[38;5;241m*\u001B[39m\u001B[38;5;241m*\u001B[39mkwargs)\n\u001B[1;32m   1543\u001B[0m \u001B[38;5;28;01mtry\u001B[39;00m:\n\u001B[1;32m   1544\u001B[0m     result \u001B[38;5;241m=\u001B[39m \u001B[38;5;28;01mNone\u001B[39;00m\n",
      "File \u001B[0;32m~/DataspellProjects/Bakalarka/QSPRpred/qsprpred/extra/gpu/models/neural_network.py:517\u001B[0m, in \u001B[0;36mSTFullyConnected.forward\u001B[0;34m(self, X, is_train)\u001B[0m\n\u001B[1;32m    514\u001B[0m     if self.is_reg:\n\u001B[1;32m    515\u001B[0m         # If regression, no activation on the final layer (identity function)\n\u001B[1;32m    516\u001B[0m         y = self.layers[-1](y)\n\u001B[0;32m--> 517\u001B[0m     else:\n\u001B[1;32m    518\u001B[0m         # If classification, apply the final layer activation (e.g., Softmax, Sigmoid)\n\u001B[1;32m    519\u001B[0m         y = self.final_layer_activation(self.layers[-1](y))\n\u001B[1;32m    523\u001B[0m else:\n",
      "File \u001B[0;32m~/anaconda3/envs/ml/lib/python3.11/site-packages/torch/nn/modules/module.py:1532\u001B[0m, in \u001B[0;36mModule._wrapped_call_impl\u001B[0;34m(self, *args, **kwargs)\u001B[0m\n\u001B[1;32m   1530\u001B[0m     \u001B[38;5;28;01mreturn\u001B[39;00m \u001B[38;5;28mself\u001B[39m\u001B[38;5;241m.\u001B[39m_compiled_call_impl(\u001B[38;5;241m*\u001B[39margs, \u001B[38;5;241m*\u001B[39m\u001B[38;5;241m*\u001B[39mkwargs)  \u001B[38;5;66;03m# type: ignore[misc]\u001B[39;00m\n\u001B[1;32m   1531\u001B[0m \u001B[38;5;28;01melse\u001B[39;00m:\n\u001B[0;32m-> 1532\u001B[0m     \u001B[38;5;28;01mreturn\u001B[39;00m \u001B[38;5;28mself\u001B[39m\u001B[38;5;241m.\u001B[39m_call_impl(\u001B[38;5;241m*\u001B[39margs, \u001B[38;5;241m*\u001B[39m\u001B[38;5;241m*\u001B[39mkwargs)\n",
      "File \u001B[0;32m~/anaconda3/envs/ml/lib/python3.11/site-packages/torch/nn/modules/module.py:1541\u001B[0m, in \u001B[0;36mModule._call_impl\u001B[0;34m(self, *args, **kwargs)\u001B[0m\n\u001B[1;32m   1536\u001B[0m \u001B[38;5;66;03m# If we don't have any hooks, we want to skip the rest of the logic in\u001B[39;00m\n\u001B[1;32m   1537\u001B[0m \u001B[38;5;66;03m# this function, and just call forward.\u001B[39;00m\n\u001B[1;32m   1538\u001B[0m \u001B[38;5;28;01mif\u001B[39;00m \u001B[38;5;129;01mnot\u001B[39;00m (\u001B[38;5;28mself\u001B[39m\u001B[38;5;241m.\u001B[39m_backward_hooks \u001B[38;5;129;01mor\u001B[39;00m \u001B[38;5;28mself\u001B[39m\u001B[38;5;241m.\u001B[39m_backward_pre_hooks \u001B[38;5;129;01mor\u001B[39;00m \u001B[38;5;28mself\u001B[39m\u001B[38;5;241m.\u001B[39m_forward_hooks \u001B[38;5;129;01mor\u001B[39;00m \u001B[38;5;28mself\u001B[39m\u001B[38;5;241m.\u001B[39m_forward_pre_hooks\n\u001B[1;32m   1539\u001B[0m         \u001B[38;5;129;01mor\u001B[39;00m _global_backward_pre_hooks \u001B[38;5;129;01mor\u001B[39;00m _global_backward_hooks\n\u001B[1;32m   1540\u001B[0m         \u001B[38;5;129;01mor\u001B[39;00m _global_forward_hooks \u001B[38;5;129;01mor\u001B[39;00m _global_forward_pre_hooks):\n\u001B[0;32m-> 1541\u001B[0m     \u001B[38;5;28;01mreturn\u001B[39;00m forward_call(\u001B[38;5;241m*\u001B[39margs, \u001B[38;5;241m*\u001B[39m\u001B[38;5;241m*\u001B[39mkwargs)\n\u001B[1;32m   1543\u001B[0m \u001B[38;5;28;01mtry\u001B[39;00m:\n\u001B[1;32m   1544\u001B[0m     result \u001B[38;5;241m=\u001B[39m \u001B[38;5;28;01mNone\u001B[39;00m\n",
      "File \u001B[0;32m~/anaconda3/envs/ml/lib/python3.11/site-packages/torch/nn/modules/linear.py:116\u001B[0m, in \u001B[0;36mLinear.forward\u001B[0;34m(self, input)\u001B[0m\n\u001B[1;32m    115\u001B[0m \u001B[38;5;28;01mdef\u001B[39;00m \u001B[38;5;21mforward\u001B[39m(\u001B[38;5;28mself\u001B[39m, \u001B[38;5;28minput\u001B[39m: Tensor) \u001B[38;5;241m-\u001B[39m\u001B[38;5;241m>\u001B[39m Tensor:\n\u001B[0;32m--> 116\u001B[0m     \u001B[38;5;28;01mreturn\u001B[39;00m F\u001B[38;5;241m.\u001B[39mlinear(\u001B[38;5;28minput\u001B[39m, \u001B[38;5;28mself\u001B[39m\u001B[38;5;241m.\u001B[39mweight, \u001B[38;5;28mself\u001B[39m\u001B[38;5;241m.\u001B[39mbias)\n",
      "\u001B[0;31mKeyboardInterrupt\u001B[0m: "
     ]
    }
   ],
   "execution_count": 12
  },
  {
   "metadata": {
    "ExecuteTime": {
     "end_time": "2025-03-21T14:04:30.183080Z",
     "start_time": "2025-03-19T10:42:13.962001Z"
    }
   },
   "cell_type": "code",
   "source": [
    "print(val_accuracies)\n",
    "print(val_accuracies_r)"
   ],
   "id": "3fa1052b6701e3cf",
   "outputs": [
    {
     "name": "stdout",
     "output_type": "stream",
     "text": [
      "[0.591590194764539]\n",
      "[0.44612061891762367]\n"
     ]
    }
   ],
   "execution_count": 12
  },
  {
   "metadata": {
    "ExecuteTime": {
     "end_time": "2025-03-21T14:04:30.183154Z",
     "start_time": "2025-03-19T00:02:58.253855Z"
    }
   },
   "cell_type": "code",
   "source": [
    "import numpy as np\n",
    "\n",
    "best_params = param_grid[(np.argmin(val_accuracies))]\n",
    "display(best_params)\n",
    "display(min(val_accuracies))\n",
    "display(val_accuracies)\n"
   ],
   "id": "b004eafa63254568",
   "outputs": [
    {
     "ename": "ValueError",
     "evalue": "If using all scalar values, you must pass an index",
     "output_type": "error",
     "traceback": [
      "\u001B[0;31m---------------------------------------------------------------------------\u001B[0m",
      "\u001B[0;31mValueError\u001B[0m                                Traceback (most recent call last)",
      "Cell \u001B[0;32mIn[21], line 4\u001B[0m\n\u001B[1;32m      1\u001B[0m \u001B[38;5;28;01mimport\u001B[39;00m \u001B[38;5;21;01mnumpy\u001B[39;00m \u001B[38;5;28;01mas\u001B[39;00m \u001B[38;5;21;01mnp\u001B[39;00m\n\u001B[1;32m      3\u001B[0m best_params \u001B[38;5;241m=\u001B[39m param_grid[(np\u001B[38;5;241m.\u001B[39margmin(val_accuracies))]\n\u001B[0;32m----> 4\u001B[0m display(best_params)\n\u001B[1;32m      5\u001B[0m display(\u001B[38;5;28mmin\u001B[39m(val_accuracies))\n\u001B[1;32m      6\u001B[0m display(val_accuracies)\n",
      "File \u001B[0;32m~/anaconda3/envs/ml/lib/python3.11/functools.py:909\u001B[0m, in \u001B[0;36msingledispatch.<locals>.wrapper\u001B[0;34m(*args, **kw)\u001B[0m\n\u001B[1;32m    905\u001B[0m \u001B[38;5;28;01mif\u001B[39;00m \u001B[38;5;129;01mnot\u001B[39;00m args:\n\u001B[1;32m    906\u001B[0m     \u001B[38;5;28;01mraise\u001B[39;00m \u001B[38;5;167;01mTypeError\u001B[39;00m(\u001B[38;5;124mf\u001B[39m\u001B[38;5;124m'\u001B[39m\u001B[38;5;132;01m{\u001B[39;00mfuncname\u001B[38;5;132;01m}\u001B[39;00m\u001B[38;5;124m requires at least \u001B[39m\u001B[38;5;124m'\u001B[39m\n\u001B[1;32m    907\u001B[0m                     \u001B[38;5;124m'\u001B[39m\u001B[38;5;124m1 positional argument\u001B[39m\u001B[38;5;124m'\u001B[39m)\n\u001B[0;32m--> 909\u001B[0m \u001B[38;5;28;01mreturn\u001B[39;00m dispatch(args[\u001B[38;5;241m0\u001B[39m]\u001B[38;5;241m.\u001B[39m\u001B[38;5;18m__class__\u001B[39m)(\u001B[38;5;241m*\u001B[39margs, \u001B[38;5;241m*\u001B[39m\u001B[38;5;241m*\u001B[39mkw)\n",
      "File \u001B[0;32m~/anaconda3/envs/ml/lib/python3.11/site-packages/mols2grid/dispatch.py:241\u001B[0m, in \u001B[0;36m_\u001B[0;34m(df, **kwargs)\u001B[0m\n\u001B[1;32m    237\u001B[0m \u001B[38;5;129m@display\u001B[39m\u001B[38;5;241m.\u001B[39mregister(DataFrame)\n\u001B[1;32m    238\u001B[0m \u001B[38;5;129m@display\u001B[39m\u001B[38;5;241m.\u001B[39mregister(\u001B[38;5;28mdict\u001B[39m)\n\u001B[1;32m    239\u001B[0m \u001B[38;5;28;01mdef\u001B[39;00m \u001B[38;5;21m_\u001B[39m(df, \u001B[38;5;241m*\u001B[39m\u001B[38;5;241m*\u001B[39mkwargs):\n\u001B[1;32m    240\u001B[0m     template, kwargs, render_kwargs \u001B[38;5;241m=\u001B[39m _prepare_kwargs(kwargs, \u001B[38;5;124m\"\u001B[39m\u001B[38;5;124mdisplay\u001B[39m\u001B[38;5;124m\"\u001B[39m)\n\u001B[0;32m--> 241\u001B[0m     \u001B[38;5;28;01mreturn\u001B[39;00m MolGrid(df, \u001B[38;5;241m*\u001B[39m\u001B[38;5;241m*\u001B[39mkwargs)\u001B[38;5;241m.\u001B[39mdisplay(template\u001B[38;5;241m=\u001B[39mtemplate, \u001B[38;5;241m*\u001B[39m\u001B[38;5;241m*\u001B[39mrender_kwargs)\n",
      "File \u001B[0;32m~/anaconda3/envs/ml/lib/python3.11/site-packages/mols2grid/molgrid.py:161\u001B[0m, in \u001B[0;36mMolGrid.__init__\u001B[0;34m(self, df, smiles_col, mol_col, size, useSVG, prerender, cache_selection, removeHs, use_coords, coordGen, MolDrawOptions, name, rename, **kwargs)\u001B[0m\n\u001B[1;32m    158\u001B[0m     dataframe \u001B[38;5;241m=\u001B[39m df\u001B[38;5;241m.\u001B[39mcopy()\n\u001B[1;32m    159\u001B[0m \u001B[38;5;28;01melse\u001B[39;00m:\n\u001B[1;32m    160\u001B[0m     \u001B[38;5;66;03m# List of dicts or other input formats for dataframes.\u001B[39;00m\n\u001B[0;32m--> 161\u001B[0m     dataframe \u001B[38;5;241m=\u001B[39m pd\u001B[38;5;241m.\u001B[39mDataFrame(df)\n\u001B[1;32m    162\u001B[0m \u001B[38;5;28;01mif\u001B[39;00m rename:\n\u001B[1;32m    163\u001B[0m     dataframe\u001B[38;5;241m.\u001B[39mrename(columns\u001B[38;5;241m=\u001B[39mrename, inplace\u001B[38;5;241m=\u001B[39m\u001B[38;5;28;01mTrue\u001B[39;00m)\n",
      "File \u001B[0;32m~/anaconda3/envs/ml/lib/python3.11/site-packages/pandas/core/frame.py:778\u001B[0m, in \u001B[0;36mDataFrame.__init__\u001B[0;34m(self, data, index, columns, dtype, copy)\u001B[0m\n\u001B[1;32m    772\u001B[0m     mgr \u001B[38;5;241m=\u001B[39m \u001B[38;5;28mself\u001B[39m\u001B[38;5;241m.\u001B[39m_init_mgr(\n\u001B[1;32m    773\u001B[0m         data, axes\u001B[38;5;241m=\u001B[39m{\u001B[38;5;124m\"\u001B[39m\u001B[38;5;124mindex\u001B[39m\u001B[38;5;124m\"\u001B[39m: index, \u001B[38;5;124m\"\u001B[39m\u001B[38;5;124mcolumns\u001B[39m\u001B[38;5;124m\"\u001B[39m: columns}, dtype\u001B[38;5;241m=\u001B[39mdtype, copy\u001B[38;5;241m=\u001B[39mcopy\n\u001B[1;32m    774\u001B[0m     )\n\u001B[1;32m    776\u001B[0m \u001B[38;5;28;01melif\u001B[39;00m \u001B[38;5;28misinstance\u001B[39m(data, \u001B[38;5;28mdict\u001B[39m):\n\u001B[1;32m    777\u001B[0m     \u001B[38;5;66;03m# GH#38939 de facto copy defaults to False only in non-dict cases\u001B[39;00m\n\u001B[0;32m--> 778\u001B[0m     mgr \u001B[38;5;241m=\u001B[39m dict_to_mgr(data, index, columns, dtype\u001B[38;5;241m=\u001B[39mdtype, copy\u001B[38;5;241m=\u001B[39mcopy, typ\u001B[38;5;241m=\u001B[39mmanager)\n\u001B[1;32m    779\u001B[0m \u001B[38;5;28;01melif\u001B[39;00m \u001B[38;5;28misinstance\u001B[39m(data, ma\u001B[38;5;241m.\u001B[39mMaskedArray):\n\u001B[1;32m    780\u001B[0m     \u001B[38;5;28;01mfrom\u001B[39;00m \u001B[38;5;21;01mnumpy\u001B[39;00m\u001B[38;5;21;01m.\u001B[39;00m\u001B[38;5;21;01mma\u001B[39;00m \u001B[38;5;28;01mimport\u001B[39;00m mrecords\n",
      "File \u001B[0;32m~/anaconda3/envs/ml/lib/python3.11/site-packages/pandas/core/internals/construction.py:503\u001B[0m, in \u001B[0;36mdict_to_mgr\u001B[0;34m(data, index, columns, dtype, typ, copy)\u001B[0m\n\u001B[1;32m    499\u001B[0m     \u001B[38;5;28;01melse\u001B[39;00m:\n\u001B[1;32m    500\u001B[0m         \u001B[38;5;66;03m# dtype check to exclude e.g. range objects, scalars\u001B[39;00m\n\u001B[1;32m    501\u001B[0m         arrays \u001B[38;5;241m=\u001B[39m [x\u001B[38;5;241m.\u001B[39mcopy() \u001B[38;5;28;01mif\u001B[39;00m \u001B[38;5;28mhasattr\u001B[39m(x, \u001B[38;5;124m\"\u001B[39m\u001B[38;5;124mdtype\u001B[39m\u001B[38;5;124m\"\u001B[39m) \u001B[38;5;28;01melse\u001B[39;00m x \u001B[38;5;28;01mfor\u001B[39;00m x \u001B[38;5;129;01min\u001B[39;00m arrays]\n\u001B[0;32m--> 503\u001B[0m \u001B[38;5;28;01mreturn\u001B[39;00m arrays_to_mgr(arrays, columns, index, dtype\u001B[38;5;241m=\u001B[39mdtype, typ\u001B[38;5;241m=\u001B[39mtyp, consolidate\u001B[38;5;241m=\u001B[39mcopy)\n",
      "File \u001B[0;32m~/anaconda3/envs/ml/lib/python3.11/site-packages/pandas/core/internals/construction.py:114\u001B[0m, in \u001B[0;36marrays_to_mgr\u001B[0;34m(arrays, columns, index, dtype, verify_integrity, typ, consolidate)\u001B[0m\n\u001B[1;32m    111\u001B[0m \u001B[38;5;28;01mif\u001B[39;00m verify_integrity:\n\u001B[1;32m    112\u001B[0m     \u001B[38;5;66;03m# figure out the index, if necessary\u001B[39;00m\n\u001B[1;32m    113\u001B[0m     \u001B[38;5;28;01mif\u001B[39;00m index \u001B[38;5;129;01mis\u001B[39;00m \u001B[38;5;28;01mNone\u001B[39;00m:\n\u001B[0;32m--> 114\u001B[0m         index \u001B[38;5;241m=\u001B[39m _extract_index(arrays)\n\u001B[1;32m    115\u001B[0m     \u001B[38;5;28;01melse\u001B[39;00m:\n\u001B[1;32m    116\u001B[0m         index \u001B[38;5;241m=\u001B[39m ensure_index(index)\n",
      "File \u001B[0;32m~/anaconda3/envs/ml/lib/python3.11/site-packages/pandas/core/internals/construction.py:667\u001B[0m, in \u001B[0;36m_extract_index\u001B[0;34m(data)\u001B[0m\n\u001B[1;32m    664\u001B[0m         \u001B[38;5;28;01mraise\u001B[39;00m \u001B[38;5;167;01mValueError\u001B[39;00m(\u001B[38;5;124m\"\u001B[39m\u001B[38;5;124mPer-column arrays must each be 1-dimensional\u001B[39m\u001B[38;5;124m\"\u001B[39m)\n\u001B[1;32m    666\u001B[0m \u001B[38;5;28;01mif\u001B[39;00m \u001B[38;5;129;01mnot\u001B[39;00m indexes \u001B[38;5;129;01mand\u001B[39;00m \u001B[38;5;129;01mnot\u001B[39;00m raw_lengths:\n\u001B[0;32m--> 667\u001B[0m     \u001B[38;5;28;01mraise\u001B[39;00m \u001B[38;5;167;01mValueError\u001B[39;00m(\u001B[38;5;124m\"\u001B[39m\u001B[38;5;124mIf using all scalar values, you must pass an index\u001B[39m\u001B[38;5;124m\"\u001B[39m)\n\u001B[1;32m    669\u001B[0m \u001B[38;5;28;01mif\u001B[39;00m have_series:\n\u001B[1;32m    670\u001B[0m     index \u001B[38;5;241m=\u001B[39m union_indexes(indexes)\n",
      "\u001B[0;31mValueError\u001B[0m: If using all scalar values, you must pass an index"
     ]
    }
   ],
   "execution_count": 21
  },
  {
   "metadata": {},
   "cell_type": "markdown",
   "source": [
    "\n",
    "* RELU 1.045242449663438\n",
    "* GELU 1.012\n",
    "* ELU 1.0803313948254016\n",
    "* SiLU 1.054\n",
    "* SELU 1.089\n",
    "* Dropout: 0.05\n"
   ],
   "id": "2daca3908628069e"
  },
  {
   "metadata": {},
   "cell_type": "markdown",
   "source": [
    "1 / 8\n",
    "* <function relu at 0x15eb3a160> 1.1250744327450628\n",
    "2 / 8\n",
    "* <function leaky_relu at 0x15eb3a5c0> 1.0938768673113628\n",
    "3 / 8\n",
    "* <built-in function gelu> 1.1638879556715451\n",
    "4 / 8\n",
    "* <function elu at 0x15eb3a3e0> 0.9410014660390317\n",
    "5 / 8\n",
    "* <function silu at 0x15eb3ad40> 1.264585029437087\n",
    "6 / 8\n",
    "* <function tanh at 0x15eb3ab60> 1.5572187279142176\n",
    "7 / 8\n",
    "* <function sigmoid at 0x15eb3ac00> 9.547899011065818\n",
    "8 / 8\n",
    "* <function selu at 0x15eb3a480> 0.7631453763567609\n"
   ],
   "id": "57288f92cd28cb77"
  },
  {
   "metadata": {},
   "cell_type": "markdown",
   "source": [
    "Base model:\n",
    "* MSE <- 0.31\n",
    "* R2 <- 0.68\n"
   ],
   "id": "c58d140253542901"
  },
  {
   "metadata": {
    "ExecuteTime": {
     "end_time": "2025-03-21T14:15:10.487221Z",
     "start_time": "2025-03-21T14:15:10.468599Z"
    }
   },
   "cell_type": "code",
   "source": [
    "from sklearn.metrics import mean_squared_error\n",
    "from sklearn.metrics import r2_score\n",
    "\n",
    "model_nn = STFullyConnected(n_dim=dataset.X.shape[1],  # počet vstupních neuronů (počet deskriptorů)\n",
    "                            n_class=1,  # regresní úloha (1 výstup)\n",
    "                            gpus=[],\n",
    "                            device=device,\n",
    "                            batch_size=256,\n",
    "                            patience=20,\n",
    "                            tol=1e-4,\n",
    "                            is_reg=True,\n",
    "                            extra_layer=True,\n",
    "                            dropout_frac=0.25,\n",
    "                            **best_params)\n",
    "\n",
    "print(\"MSE:\", mean_squared_error(model_nn.predict(dataset.X_ind), dataset.y_ind))\n",
    "print(\"R2:\", r2_score(model_nn.predict(dataset.X_ind), dataset.y_ind))\n"
   ],
   "id": "2799e927ad404552",
   "outputs": [
    {
     "ename": "NameError",
     "evalue": "name 'best_params' is not defined",
     "output_type": "error",
     "traceback": [
      "\u001B[0;31m---------------------------------------------------------------------------\u001B[0m",
      "\u001B[0;31mNameError\u001B[0m                                 Traceback (most recent call last)",
      "Cell \u001B[0;32mIn[11], line 14\u001B[0m\n\u001B[1;32m      1\u001B[0m \u001B[38;5;28;01mfrom\u001B[39;00m \u001B[38;5;21;01msklearn\u001B[39;00m\u001B[38;5;21;01m.\u001B[39;00m\u001B[38;5;21;01mmetrics\u001B[39;00m \u001B[38;5;28;01mimport\u001B[39;00m mean_squared_error\n\u001B[1;32m      2\u001B[0m \u001B[38;5;28;01mfrom\u001B[39;00m \u001B[38;5;21;01msklearn\u001B[39;00m\u001B[38;5;21;01m.\u001B[39;00m\u001B[38;5;21;01mmetrics\u001B[39;00m \u001B[38;5;28;01mimport\u001B[39;00m r2_score\n\u001B[1;32m      4\u001B[0m model_nn \u001B[38;5;241m=\u001B[39m STFullyConnected(n_dim\u001B[38;5;241m=\u001B[39mdataset\u001B[38;5;241m.\u001B[39mX\u001B[38;5;241m.\u001B[39mshape[\u001B[38;5;241m1\u001B[39m],  \u001B[38;5;66;03m# počet vstupních neuronů (počet deskriptorů)\u001B[39;00m\n\u001B[1;32m      5\u001B[0m                             n_class\u001B[38;5;241m=\u001B[39m\u001B[38;5;241m1\u001B[39m,  \u001B[38;5;66;03m# regresní úloha (1 výstup)\u001B[39;00m\n\u001B[1;32m      6\u001B[0m                             gpus\u001B[38;5;241m=\u001B[39m[],\n\u001B[1;32m      7\u001B[0m                             device\u001B[38;5;241m=\u001B[39mdevice,\n\u001B[1;32m      8\u001B[0m                             batch_size\u001B[38;5;241m=\u001B[39m\u001B[38;5;241m256\u001B[39m,\n\u001B[1;32m      9\u001B[0m                             patience\u001B[38;5;241m=\u001B[39m\u001B[38;5;241m20\u001B[39m,\n\u001B[1;32m     10\u001B[0m                             tol\u001B[38;5;241m=\u001B[39m\u001B[38;5;241m1e-4\u001B[39m,\n\u001B[1;32m     11\u001B[0m                             is_reg\u001B[38;5;241m=\u001B[39m\u001B[38;5;28;01mTrue\u001B[39;00m,\n\u001B[1;32m     12\u001B[0m                             extra_layer\u001B[38;5;241m=\u001B[39m\u001B[38;5;28;01mTrue\u001B[39;00m,\n\u001B[1;32m     13\u001B[0m                             dropout_frac\u001B[38;5;241m=\u001B[39m\u001B[38;5;241m0.25\u001B[39m,\n\u001B[0;32m---> 14\u001B[0m                             \u001B[38;5;241m*\u001B[39m\u001B[38;5;241m*\u001B[39mbest_params)\n\u001B[1;32m     16\u001B[0m \u001B[38;5;28mprint\u001B[39m(\u001B[38;5;124m\"\u001B[39m\u001B[38;5;124mMSE:\u001B[39m\u001B[38;5;124m\"\u001B[39m, mean_squared_error(model_nn\u001B[38;5;241m.\u001B[39mpredict(dataset\u001B[38;5;241m.\u001B[39mX_ind), dataset\u001B[38;5;241m.\u001B[39my_ind))\n\u001B[1;32m     17\u001B[0m \u001B[38;5;28mprint\u001B[39m(\u001B[38;5;124m\"\u001B[39m\u001B[38;5;124mR2:\u001B[39m\u001B[38;5;124m\"\u001B[39m, r2_score(model_nn\u001B[38;5;241m.\u001B[39mpredict(dataset\u001B[38;5;241m.\u001B[39mX_ind), dataset\u001B[38;5;241m.\u001B[39my_ind))\n",
      "\u001B[0;31mNameError\u001B[0m: name 'best_params' is not defined"
     ]
    }
   ],
   "execution_count": 11
  },
  {
   "metadata": {
    "ExecuteTime": {
     "end_time": "2025-03-21T14:04:30.183341Z",
     "start_time": "2025-03-18T16:30:00.855602Z"
    }
   },
   "cell_type": "code",
   "source": [
    "model_nn_noreg = STFullyConnected(\n",
    "    n_dim=dataset.X.shape[1],  # počet vstupních neuronů (počet deskriptorů)\n",
    "    n_class=1,  # regresní úloha (1 výstup)\n",
    "    gpus=[],\n",
    "    device=device,\n",
    "    n_epochs=200,\n",
    "    lr=1e-4,\n",
    "    batch_size=256,\n",
    "    patience=20,\n",
    "    tol=1e-4,\n",
    "    is_reg=True,\n",
    "    neurons_h1=1000,\n",
    "    neurons_hx=200,\n",
    "    extra_layer=True,\n",
    "    dropout_frac=0.25,\n",
    "    weight_decay=0.0\n",
    ")\n"
   ],
   "id": "cac8978fac467cb2",
   "outputs": [],
   "execution_count": 20
  },
  {
   "metadata": {
    "ExecuteTime": {
     "end_time": "2025-03-21T14:04:30.183408Z",
     "start_time": "2025-03-18T16:30:18.479275Z"
    }
   },
   "cell_type": "code",
   "source": "model_nn_noreg.fit(dataset.X, dataset.y)",
   "id": "e69b6b6e12b4a372",
   "outputs": [
    {
     "data": {
      "text/plain": [
       "(STFullyConnected(\n",
       "   (dropout): Dropout(p=0.25, inplace=False)\n",
       "   (fc0): Linear(in_features=2048, out_features=1000, bias=True)\n",
       "   (fc1): Linear(in_features=1000, out_features=200, bias=True)\n",
       "   (fc2): Linear(in_features=200, out_features=200, bias=True)\n",
       "   (fc3): Linear(in_features=200, out_features=1, bias=True)\n",
       "   (criterion): MSELoss()\n",
       " ),\n",
       " 0)"
      ]
     },
     "execution_count": 21,
     "metadata": {},
     "output_type": "execute_result"
    }
   ],
   "execution_count": 21
  },
  {
   "metadata": {
    "ExecuteTime": {
     "end_time": "2025-03-21T14:04:30.183508Z",
     "start_time": "2025-03-18T16:32:28.146547Z"
    }
   },
   "cell_type": "code",
   "source": [
    "from sklearn.metrics import mean_squared_error\n",
    "from sklearn.metrics import r2_score\n",
    "\n",
    "print(\"MSE:\", mean_squared_error(model_nn_noreg.predict(dataset.X_ind), dataset.y_ind))\n",
    "print(\"R2:\", r2_score(model_nn_noreg.predict(dataset.X_ind), dataset.y_ind))"
   ],
   "id": "fd576b66511deaad",
   "outputs": [
    {
     "name": "stdout",
     "output_type": "stream",
     "text": [
      "MSE: 0.7215939088954494\n",
      "R2: 0.279348695180174\n"
     ]
    }
   ],
   "execution_count": 22
  }
 ],
 "metadata": {
  "kernelspec": {
   "display_name": "Python 3",
   "language": "python",
   "name": "python3"
  },
  "language_info": {
   "codemirror_mode": {
    "name": "ipython",
    "version": 2
   },
   "file_extension": ".py",
   "mimetype": "text/x-python",
   "name": "python",
   "nbconvert_exporter": "python",
   "pygments_lexer": "ipython2",
   "version": "2.7.6"
  }
 },
 "nbformat": 4,
 "nbformat_minor": 5
}
